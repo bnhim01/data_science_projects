{
 "cells": [
  {
   "cell_type": "markdown",
   "id": "c9e621de",
   "metadata": {},
   "source": [
    "# Customer Churn Exploratory Analysis\n",
    "\n",
    "### Team members: Ellisha, Ikram, Brian\n",
    "\n",
    "This project aims to predict customer churn in Telco company. The dataset contains 7043 observations and 31 variables and can be found on [Kaggle](https://www.kaggle.com/yeanzc/telco-customer-churn-ibm-dataset).\n",
    "\n",
    "This workbook focuses on the exploratory analysis."
   ]
  },
  {
   "cell_type": "markdown",
   "id": "ab886de4",
   "metadata": {},
   "source": [
    "## Loading Libraries"
   ]
  },
  {
   "cell_type": "code",
   "execution_count": 1,
   "id": "7ad5ae88",
   "metadata": {},
   "outputs": [],
   "source": [
    "## Dataset manipulation\n",
    "import pandas as pd \n",
    "import numpy as np \n",
    "\n",
    "## Visualisation\n",
    "import seaborn as sns \n",
    "import matplotlib.pyplot as plt "
   ]
  },
  {
   "cell_type": "markdown",
   "id": "9428891a",
   "metadata": {},
   "source": [
    "## Writing Functions"
   ]
  },
  {
   "cell_type": "markdown",
   "id": "343b8f8c",
   "metadata": {},
   "source": [
    "### Unique Values Function"
   ]
  },
  {
   "cell_type": "code",
   "execution_count": 2,
   "id": "120cf555",
   "metadata": {},
   "outputs": [],
   "source": [
    "def unique_values(df, variable):\n",
    "    \n",
    "    \"\"\"\n",
    "    Function to print unique values and their counts for a variable\n",
    "    \"\"\"\n",
    "    \n",
    "    print(f'The variable {variable} has {len(df[variable].unique())} unique values: \\n')\n",
    "    print(f'{df[variable].unique()}')\n",
    "    print(f'-------------------------------------------------------------------------- \\n')"
   ]
  },
  {
   "cell_type": "markdown",
   "id": "6de98d45",
   "metadata": {},
   "source": [
    "### Missing Values Function"
   ]
  },
  {
   "cell_type": "code",
   "execution_count": 3,
   "id": "0ef08e47",
   "metadata": {},
   "outputs": [],
   "source": [
    "def missing(df):\n",
    "    \n",
    "    \"\"\"\n",
    "    Function to show the counts of missing values of each variable and their percentages out of the whole dataset\n",
    "    \"\"\"\n",
    "    \n",
    "    variables = df.columns\n",
    "    missings = df.isnull().sum()\n",
    "    percent = round(missings/df.shape[0], 3)\n",
    "    \n",
    "    result = pd.DataFrame(list(zip(variables, missings, percent)))\n",
    "    result.columns = ['Variables', 'Count', 'Percentage']\n",
    "    result = result.sort_values(by = 'Count', ascending = False)\n",
    "    \n",
    "    print(result)"
   ]
  },
  {
   "cell_type": "markdown",
   "id": "0493461a",
   "metadata": {},
   "source": [
    "### Data Cleaning Function"
   ]
  },
  {
   "cell_type": "code",
   "execution_count": 4,
   "id": "5b41fcc7",
   "metadata": {},
   "outputs": [],
   "source": [
    "def data_clean(df):\n",
    "    \n",
    "    \"\"\"\n",
    "    Function to clean a dataframe\n",
    "    \"\"\"\n",
    "    \n",
    "    ## Fill missing values in Churn Reason\n",
    "    df['Churn Reason'] = df['Churn Reason'].fillna('Current Customer')\n",
    "    \n",
    "    ## Replace blank strings to 0 in Total Charges: their Tenure Months are 0, suggesting that they are new customers\n",
    "    ## Convert Total Charges to float\n",
    "    df['Total Charges'] = np.where(df['Total Charges'] == \" \", 0, df['Total Charges'])\n",
    "    df['Total Charges'] = df['Total Charges'].astype('float64')\n",
    "    \n",
    "    return df"
   ]
  },
  {
   "cell_type": "markdown",
   "id": "8afc9c8a",
   "metadata": {},
   "source": [
    "### Eda Function"
   ]
  },
  {
   "cell_type": "code",
   "execution_count": 5,
   "id": "973800d9",
   "metadata": {},
   "outputs": [],
   "source": [
    "def kde_plot(df, feature):\n",
    "    plt.figure(figsize = (10, 8))\n",
    "    plt.title(f'KDE Plot of {feature}')\n",
    "    ax0 = sns.kdeplot(df[df['Churn Label'] == 'No'][feature], color = 'navy', legend = True, label = 'Churn: No')\n",
    "    ax1 = sns.kdeplot(df[df['Churn Label'] == 'Yes'][feature], color = 'orange', legend = True, label = 'Churn: Yes')\n",
    "    plt.legend()\n",
    "    plt.show()"
   ]
  },
  {
   "cell_type": "markdown",
   "id": "7a92b416",
   "metadata": {},
   "source": [
    "## Reading in Data"
   ]
  },
  {
   "cell_type": "code",
   "execution_count": 6,
   "id": "049d2521",
   "metadata": {},
   "outputs": [],
   "source": [
    "churn_full = pd.read_excel('OneDrive\\Desktop\\Digital_Futures\\Digital_Futures_Group_Project_3\\customer_churn.xlsx')"
   ]
  },
  {
   "cell_type": "markdown",
   "id": "6b446f5f",
   "metadata": {},
   "source": [
    "## Inspecting Data"
   ]
  },
  {
   "cell_type": "code",
   "execution_count": 7,
   "id": "1436796d",
   "metadata": {},
   "outputs": [
    {
     "data": {
      "text/html": [
       "<div>\n",
       "<style scoped>\n",
       "    .dataframe tbody tr th:only-of-type {\n",
       "        vertical-align: middle;\n",
       "    }\n",
       "\n",
       "    .dataframe tbody tr th {\n",
       "        vertical-align: top;\n",
       "    }\n",
       "\n",
       "    .dataframe thead th {\n",
       "        text-align: right;\n",
       "    }\n",
       "</style>\n",
       "<table border=\"1\" class=\"dataframe\">\n",
       "  <thead>\n",
       "    <tr style=\"text-align: right;\">\n",
       "      <th></th>\n",
       "      <th>CustomerID</th>\n",
       "      <th>Count</th>\n",
       "      <th>Country</th>\n",
       "      <th>State</th>\n",
       "      <th>City</th>\n",
       "      <th>Zip Code</th>\n",
       "      <th>Lat Long</th>\n",
       "      <th>Latitude</th>\n",
       "      <th>Longitude</th>\n",
       "      <th>Gender</th>\n",
       "      <th>...</th>\n",
       "      <th>Streaming TV</th>\n",
       "      <th>Streaming Movies</th>\n",
       "      <th>Contract</th>\n",
       "      <th>Paperless Billing</th>\n",
       "      <th>Payment Method</th>\n",
       "      <th>Monthly Charges</th>\n",
       "      <th>Total Charges</th>\n",
       "      <th>Churn Label</th>\n",
       "      <th>Churn Value</th>\n",
       "      <th>Churn Reason</th>\n",
       "    </tr>\n",
       "  </thead>\n",
       "  <tbody>\n",
       "    <tr>\n",
       "      <th>0</th>\n",
       "      <td>3668-QPYBK</td>\n",
       "      <td>1</td>\n",
       "      <td>United States</td>\n",
       "      <td>California</td>\n",
       "      <td>Los Angeles</td>\n",
       "      <td>90003</td>\n",
       "      <td>33.964131, -118.272783</td>\n",
       "      <td>33.964131</td>\n",
       "      <td>-118.272783</td>\n",
       "      <td>Male</td>\n",
       "      <td>...</td>\n",
       "      <td>No</td>\n",
       "      <td>No</td>\n",
       "      <td>Month-to-month</td>\n",
       "      <td>Yes</td>\n",
       "      <td>Mailed check</td>\n",
       "      <td>53.85</td>\n",
       "      <td>108.15</td>\n",
       "      <td>Yes</td>\n",
       "      <td>1</td>\n",
       "      <td>Competitor made better offer</td>\n",
       "    </tr>\n",
       "    <tr>\n",
       "      <th>1</th>\n",
       "      <td>9237-HQITU</td>\n",
       "      <td>1</td>\n",
       "      <td>United States</td>\n",
       "      <td>California</td>\n",
       "      <td>Los Angeles</td>\n",
       "      <td>90005</td>\n",
       "      <td>34.059281, -118.30742</td>\n",
       "      <td>34.059281</td>\n",
       "      <td>-118.307420</td>\n",
       "      <td>Female</td>\n",
       "      <td>...</td>\n",
       "      <td>No</td>\n",
       "      <td>No</td>\n",
       "      <td>Month-to-month</td>\n",
       "      <td>Yes</td>\n",
       "      <td>Electronic check</td>\n",
       "      <td>70.70</td>\n",
       "      <td>151.65</td>\n",
       "      <td>Yes</td>\n",
       "      <td>1</td>\n",
       "      <td>Moved</td>\n",
       "    </tr>\n",
       "    <tr>\n",
       "      <th>2</th>\n",
       "      <td>9305-CDSKC</td>\n",
       "      <td>1</td>\n",
       "      <td>United States</td>\n",
       "      <td>California</td>\n",
       "      <td>Los Angeles</td>\n",
       "      <td>90006</td>\n",
       "      <td>34.048013, -118.293953</td>\n",
       "      <td>34.048013</td>\n",
       "      <td>-118.293953</td>\n",
       "      <td>Female</td>\n",
       "      <td>...</td>\n",
       "      <td>Yes</td>\n",
       "      <td>Yes</td>\n",
       "      <td>Month-to-month</td>\n",
       "      <td>Yes</td>\n",
       "      <td>Electronic check</td>\n",
       "      <td>99.65</td>\n",
       "      <td>820.5</td>\n",
       "      <td>Yes</td>\n",
       "      <td>1</td>\n",
       "      <td>Moved</td>\n",
       "    </tr>\n",
       "    <tr>\n",
       "      <th>3</th>\n",
       "      <td>7892-POOKP</td>\n",
       "      <td>1</td>\n",
       "      <td>United States</td>\n",
       "      <td>California</td>\n",
       "      <td>Los Angeles</td>\n",
       "      <td>90010</td>\n",
       "      <td>34.062125, -118.315709</td>\n",
       "      <td>34.062125</td>\n",
       "      <td>-118.315709</td>\n",
       "      <td>Female</td>\n",
       "      <td>...</td>\n",
       "      <td>Yes</td>\n",
       "      <td>Yes</td>\n",
       "      <td>Month-to-month</td>\n",
       "      <td>Yes</td>\n",
       "      <td>Electronic check</td>\n",
       "      <td>104.80</td>\n",
       "      <td>3046.05</td>\n",
       "      <td>Yes</td>\n",
       "      <td>1</td>\n",
       "      <td>Moved</td>\n",
       "    </tr>\n",
       "    <tr>\n",
       "      <th>4</th>\n",
       "      <td>0280-XJGEX</td>\n",
       "      <td>1</td>\n",
       "      <td>United States</td>\n",
       "      <td>California</td>\n",
       "      <td>Los Angeles</td>\n",
       "      <td>90015</td>\n",
       "      <td>34.039224, -118.266293</td>\n",
       "      <td>34.039224</td>\n",
       "      <td>-118.266293</td>\n",
       "      <td>Male</td>\n",
       "      <td>...</td>\n",
       "      <td>Yes</td>\n",
       "      <td>Yes</td>\n",
       "      <td>Month-to-month</td>\n",
       "      <td>Yes</td>\n",
       "      <td>Bank transfer (automatic)</td>\n",
       "      <td>103.70</td>\n",
       "      <td>5036.3</td>\n",
       "      <td>Yes</td>\n",
       "      <td>1</td>\n",
       "      <td>Competitor had better devices</td>\n",
       "    </tr>\n",
       "  </tbody>\n",
       "</table>\n",
       "<p>5 rows × 31 columns</p>\n",
       "</div>"
      ],
      "text/plain": [
       "   CustomerID  Count        Country       State         City  Zip Code  \\\n",
       "0  3668-QPYBK      1  United States  California  Los Angeles     90003   \n",
       "1  9237-HQITU      1  United States  California  Los Angeles     90005   \n",
       "2  9305-CDSKC      1  United States  California  Los Angeles     90006   \n",
       "3  7892-POOKP      1  United States  California  Los Angeles     90010   \n",
       "4  0280-XJGEX      1  United States  California  Los Angeles     90015   \n",
       "\n",
       "                 Lat Long   Latitude   Longitude  Gender  ... Streaming TV  \\\n",
       "0  33.964131, -118.272783  33.964131 -118.272783    Male  ...           No   \n",
       "1   34.059281, -118.30742  34.059281 -118.307420  Female  ...           No   \n",
       "2  34.048013, -118.293953  34.048013 -118.293953  Female  ...          Yes   \n",
       "3  34.062125, -118.315709  34.062125 -118.315709  Female  ...          Yes   \n",
       "4  34.039224, -118.266293  34.039224 -118.266293    Male  ...          Yes   \n",
       "\n",
       "  Streaming Movies        Contract  Paperless Billing  \\\n",
       "0               No  Month-to-month                Yes   \n",
       "1               No  Month-to-month                Yes   \n",
       "2              Yes  Month-to-month                Yes   \n",
       "3              Yes  Month-to-month                Yes   \n",
       "4              Yes  Month-to-month                Yes   \n",
       "\n",
       "              Payment Method Monthly Charges Total Charges Churn Label  \\\n",
       "0               Mailed check           53.85        108.15         Yes   \n",
       "1           Electronic check           70.70        151.65         Yes   \n",
       "2           Electronic check           99.65         820.5         Yes   \n",
       "3           Electronic check          104.80       3046.05         Yes   \n",
       "4  Bank transfer (automatic)          103.70        5036.3         Yes   \n",
       "\n",
       "  Churn Value                   Churn Reason  \n",
       "0           1   Competitor made better offer  \n",
       "1           1                          Moved  \n",
       "2           1                          Moved  \n",
       "3           1                          Moved  \n",
       "4           1  Competitor had better devices  \n",
       "\n",
       "[5 rows x 31 columns]"
      ]
     },
     "execution_count": 7,
     "metadata": {},
     "output_type": "execute_result"
    }
   ],
   "source": [
    "churn_full.head()"
   ]
  },
  {
   "cell_type": "code",
   "execution_count": 8,
   "id": "27f617e6",
   "metadata": {},
   "outputs": [
    {
     "name": "stdout",
     "output_type": "stream",
     "text": [
      "Number of observations: 7043\n",
      "Number of variables: 31\n"
     ]
    }
   ],
   "source": [
    "print(f'Number of observations: {churn_full.shape[0]}')\n",
    "print(f'Number of variables: {churn_full.shape[1]}')"
   ]
  },
  {
   "cell_type": "markdown",
   "id": "8db10397",
   "metadata": {},
   "source": [
    "#### Inspecting Data Type of Each Variable"
   ]
  },
  {
   "cell_type": "code",
   "execution_count": 9,
   "id": "3ef2e6f0",
   "metadata": {},
   "outputs": [
    {
     "data": {
      "text/plain": [
       "CustomerID            object\n",
       "Count                  int64\n",
       "Country               object\n",
       "State                 object\n",
       "City                  object\n",
       "Zip Code               int64\n",
       "Lat Long              object\n",
       "Latitude             float64\n",
       "Longitude            float64\n",
       "Gender                object\n",
       "Senior Citizen        object\n",
       "Partner               object\n",
       "Dependents            object\n",
       "Tenure Months          int64\n",
       "Phone Service         object\n",
       "Multiple Lines        object\n",
       "Internet Service      object\n",
       "Online Security       object\n",
       "Online Backup         object\n",
       "Device Protection     object\n",
       "Tech Support          object\n",
       "Streaming TV          object\n",
       "Streaming Movies      object\n",
       "Contract              object\n",
       "Paperless Billing     object\n",
       "Payment Method        object\n",
       "Monthly Charges      float64\n",
       "Total Charges         object\n",
       "Churn Label           object\n",
       "Churn Value            int64\n",
       "Churn Reason          object\n",
       "dtype: object"
      ]
     },
     "execution_count": 9,
     "metadata": {},
     "output_type": "execute_result"
    }
   ],
   "source": [
    "churn_full.dtypes"
   ]
  },
  {
   "cell_type": "markdown",
   "id": "41fc6e8e",
   "metadata": {},
   "source": [
    "- Total Charges might be incorrectly coded as an Object "
   ]
  },
  {
   "cell_type": "markdown",
   "id": "13db6406",
   "metadata": {},
   "source": [
    "#### Inspecting Unique Values of Each Categorical Variable"
   ]
  },
  {
   "cell_type": "code",
   "execution_count": 10,
   "id": "09fc990d",
   "metadata": {},
   "outputs": [
    {
     "name": "stdout",
     "output_type": "stream",
     "text": [
      "The variable Country has 1 unique values: \n",
      "\n",
      "['United States']\n",
      "-------------------------------------------------------------------------- \n",
      "\n",
      "The variable State has 1 unique values: \n",
      "\n",
      "['California']\n",
      "-------------------------------------------------------------------------- \n",
      "\n"
     ]
    }
   ],
   "source": [
    "for i in ['Country', 'State']:\n",
    "    unique_values(churn_full, i)"
   ]
  },
  {
   "cell_type": "markdown",
   "id": "be3e1994",
   "metadata": {},
   "source": [
    "- The dataset only contains data from California (U.S.)"
   ]
  },
  {
   "cell_type": "markdown",
   "id": "c4533509",
   "metadata": {},
   "source": [
    "#### Inspecting Missing Values in the Dataset"
   ]
  },
  {
   "cell_type": "code",
   "execution_count": 11,
   "id": "3e26062d",
   "metadata": {},
   "outputs": [
    {
     "name": "stdout",
     "output_type": "stream",
     "text": [
      "            Variables  Count  Percentage\n",
      "30       Churn Reason   5174       0.735\n",
      "16   Internet Service      0       0.000\n",
      "29        Churn Value      0       0.000\n",
      "28        Churn Label      0       0.000\n",
      "27      Total Charges      0       0.000\n",
      "26    Monthly Charges      0       0.000\n",
      "25     Payment Method      0       0.000\n",
      "24  Paperless Billing      0       0.000\n",
      "23           Contract      0       0.000\n",
      "22   Streaming Movies      0       0.000\n",
      "21       Streaming TV      0       0.000\n",
      "20       Tech Support      0       0.000\n",
      "19  Device Protection      0       0.000\n",
      "18      Online Backup      0       0.000\n",
      "17    Online Security      0       0.000\n",
      "0          CustomerID      0       0.000\n",
      "1               Count      0       0.000\n",
      "14      Phone Service      0       0.000\n",
      "13      Tenure Months      0       0.000\n",
      "12         Dependents      0       0.000\n",
      "11            Partner      0       0.000\n",
      "10     Senior Citizen      0       0.000\n",
      "9              Gender      0       0.000\n",
      "8           Longitude      0       0.000\n",
      "7            Latitude      0       0.000\n",
      "6            Lat Long      0       0.000\n",
      "5            Zip Code      0       0.000\n",
      "4                City      0       0.000\n",
      "3               State      0       0.000\n",
      "2             Country      0       0.000\n",
      "15     Multiple Lines      0       0.000\n"
     ]
    }
   ],
   "source": [
    "missing(churn_full)"
   ]
  },
  {
   "cell_type": "markdown",
   "id": "f1b03be8",
   "metadata": {},
   "source": [
    "- There are a lot of missing values in Churn Reason (73.5% of the whole dataset)"
   ]
  },
  {
   "cell_type": "code",
   "execution_count": 12,
   "id": "d4154467",
   "metadata": {},
   "outputs": [
    {
     "data": {
      "text/html": [
       "<div>\n",
       "<style scoped>\n",
       "    .dataframe tbody tr th:only-of-type {\n",
       "        vertical-align: middle;\n",
       "    }\n",
       "\n",
       "    .dataframe tbody tr th {\n",
       "        vertical-align: top;\n",
       "    }\n",
       "\n",
       "    .dataframe thead th {\n",
       "        text-align: right;\n",
       "    }\n",
       "</style>\n",
       "<table border=\"1\" class=\"dataframe\">\n",
       "  <thead>\n",
       "    <tr style=\"text-align: right;\">\n",
       "      <th></th>\n",
       "      <th>CustomerID</th>\n",
       "      <th>Count</th>\n",
       "      <th>Country</th>\n",
       "      <th>State</th>\n",
       "      <th>City</th>\n",
       "      <th>Zip Code</th>\n",
       "      <th>Lat Long</th>\n",
       "      <th>Latitude</th>\n",
       "      <th>Longitude</th>\n",
       "      <th>Gender</th>\n",
       "      <th>...</th>\n",
       "      <th>Streaming TV</th>\n",
       "      <th>Streaming Movies</th>\n",
       "      <th>Contract</th>\n",
       "      <th>Paperless Billing</th>\n",
       "      <th>Payment Method</th>\n",
       "      <th>Monthly Charges</th>\n",
       "      <th>Total Charges</th>\n",
       "      <th>Churn Label</th>\n",
       "      <th>Churn Value</th>\n",
       "      <th>Churn Reason</th>\n",
       "    </tr>\n",
       "  </thead>\n",
       "  <tbody>\n",
       "    <tr>\n",
       "      <th>1869</th>\n",
       "      <td>7590-VHVEG</td>\n",
       "      <td>1</td>\n",
       "      <td>United States</td>\n",
       "      <td>California</td>\n",
       "      <td>Los Angeles</td>\n",
       "      <td>90001</td>\n",
       "      <td>33.973616, -118.24902</td>\n",
       "      <td>33.973616</td>\n",
       "      <td>-118.249020</td>\n",
       "      <td>Female</td>\n",
       "      <td>...</td>\n",
       "      <td>No</td>\n",
       "      <td>No</td>\n",
       "      <td>Month-to-month</td>\n",
       "      <td>Yes</td>\n",
       "      <td>Electronic check</td>\n",
       "      <td>29.85</td>\n",
       "      <td>29.85</td>\n",
       "      <td>No</td>\n",
       "      <td>0</td>\n",
       "      <td>NaN</td>\n",
       "    </tr>\n",
       "    <tr>\n",
       "      <th>1870</th>\n",
       "      <td>5575-GNVDE</td>\n",
       "      <td>1</td>\n",
       "      <td>United States</td>\n",
       "      <td>California</td>\n",
       "      <td>Los Angeles</td>\n",
       "      <td>90002</td>\n",
       "      <td>33.949255, -118.246978</td>\n",
       "      <td>33.949255</td>\n",
       "      <td>-118.246978</td>\n",
       "      <td>Male</td>\n",
       "      <td>...</td>\n",
       "      <td>No</td>\n",
       "      <td>No</td>\n",
       "      <td>One year</td>\n",
       "      <td>No</td>\n",
       "      <td>Mailed check</td>\n",
       "      <td>56.95</td>\n",
       "      <td>1889.5</td>\n",
       "      <td>No</td>\n",
       "      <td>0</td>\n",
       "      <td>NaN</td>\n",
       "    </tr>\n",
       "    <tr>\n",
       "      <th>1871</th>\n",
       "      <td>7795-CFOCW</td>\n",
       "      <td>1</td>\n",
       "      <td>United States</td>\n",
       "      <td>California</td>\n",
       "      <td>Los Angeles</td>\n",
       "      <td>90004</td>\n",
       "      <td>34.076259, -118.310715</td>\n",
       "      <td>34.076259</td>\n",
       "      <td>-118.310715</td>\n",
       "      <td>Male</td>\n",
       "      <td>...</td>\n",
       "      <td>No</td>\n",
       "      <td>No</td>\n",
       "      <td>One year</td>\n",
       "      <td>No</td>\n",
       "      <td>Bank transfer (automatic)</td>\n",
       "      <td>42.30</td>\n",
       "      <td>1840.75</td>\n",
       "      <td>No</td>\n",
       "      <td>0</td>\n",
       "      <td>NaN</td>\n",
       "    </tr>\n",
       "    <tr>\n",
       "      <th>1872</th>\n",
       "      <td>1452-KIOVK</td>\n",
       "      <td>1</td>\n",
       "      <td>United States</td>\n",
       "      <td>California</td>\n",
       "      <td>Los Angeles</td>\n",
       "      <td>90007</td>\n",
       "      <td>34.027337, -118.28515</td>\n",
       "      <td>34.027337</td>\n",
       "      <td>-118.285150</td>\n",
       "      <td>Male</td>\n",
       "      <td>...</td>\n",
       "      <td>Yes</td>\n",
       "      <td>No</td>\n",
       "      <td>Month-to-month</td>\n",
       "      <td>Yes</td>\n",
       "      <td>Credit card (automatic)</td>\n",
       "      <td>89.10</td>\n",
       "      <td>1949.4</td>\n",
       "      <td>No</td>\n",
       "      <td>0</td>\n",
       "      <td>NaN</td>\n",
       "    </tr>\n",
       "    <tr>\n",
       "      <th>1873</th>\n",
       "      <td>6713-OKOMC</td>\n",
       "      <td>1</td>\n",
       "      <td>United States</td>\n",
       "      <td>California</td>\n",
       "      <td>Los Angeles</td>\n",
       "      <td>90008</td>\n",
       "      <td>34.008293, -118.346766</td>\n",
       "      <td>34.008293</td>\n",
       "      <td>-118.346766</td>\n",
       "      <td>Female</td>\n",
       "      <td>...</td>\n",
       "      <td>No</td>\n",
       "      <td>No</td>\n",
       "      <td>Month-to-month</td>\n",
       "      <td>No</td>\n",
       "      <td>Mailed check</td>\n",
       "      <td>29.75</td>\n",
       "      <td>301.9</td>\n",
       "      <td>No</td>\n",
       "      <td>0</td>\n",
       "      <td>NaN</td>\n",
       "    </tr>\n",
       "    <tr>\n",
       "      <th>...</th>\n",
       "      <td>...</td>\n",
       "      <td>...</td>\n",
       "      <td>...</td>\n",
       "      <td>...</td>\n",
       "      <td>...</td>\n",
       "      <td>...</td>\n",
       "      <td>...</td>\n",
       "      <td>...</td>\n",
       "      <td>...</td>\n",
       "      <td>...</td>\n",
       "      <td>...</td>\n",
       "      <td>...</td>\n",
       "      <td>...</td>\n",
       "      <td>...</td>\n",
       "      <td>...</td>\n",
       "      <td>...</td>\n",
       "      <td>...</td>\n",
       "      <td>...</td>\n",
       "      <td>...</td>\n",
       "      <td>...</td>\n",
       "      <td>...</td>\n",
       "    </tr>\n",
       "    <tr>\n",
       "      <th>7038</th>\n",
       "      <td>2569-WGERO</td>\n",
       "      <td>1</td>\n",
       "      <td>United States</td>\n",
       "      <td>California</td>\n",
       "      <td>Landers</td>\n",
       "      <td>92285</td>\n",
       "      <td>34.341737, -116.539416</td>\n",
       "      <td>34.341737</td>\n",
       "      <td>-116.539416</td>\n",
       "      <td>Female</td>\n",
       "      <td>...</td>\n",
       "      <td>No internet service</td>\n",
       "      <td>No internet service</td>\n",
       "      <td>Two year</td>\n",
       "      <td>Yes</td>\n",
       "      <td>Bank transfer (automatic)</td>\n",
       "      <td>21.15</td>\n",
       "      <td>1419.4</td>\n",
       "      <td>No</td>\n",
       "      <td>0</td>\n",
       "      <td>NaN</td>\n",
       "    </tr>\n",
       "    <tr>\n",
       "      <th>7039</th>\n",
       "      <td>6840-RESVB</td>\n",
       "      <td>1</td>\n",
       "      <td>United States</td>\n",
       "      <td>California</td>\n",
       "      <td>Adelanto</td>\n",
       "      <td>92301</td>\n",
       "      <td>34.667815, -117.536183</td>\n",
       "      <td>34.667815</td>\n",
       "      <td>-117.536183</td>\n",
       "      <td>Male</td>\n",
       "      <td>...</td>\n",
       "      <td>Yes</td>\n",
       "      <td>Yes</td>\n",
       "      <td>One year</td>\n",
       "      <td>Yes</td>\n",
       "      <td>Mailed check</td>\n",
       "      <td>84.80</td>\n",
       "      <td>1990.5</td>\n",
       "      <td>No</td>\n",
       "      <td>0</td>\n",
       "      <td>NaN</td>\n",
       "    </tr>\n",
       "    <tr>\n",
       "      <th>7040</th>\n",
       "      <td>2234-XADUH</td>\n",
       "      <td>1</td>\n",
       "      <td>United States</td>\n",
       "      <td>California</td>\n",
       "      <td>Amboy</td>\n",
       "      <td>92304</td>\n",
       "      <td>34.559882, -115.637164</td>\n",
       "      <td>34.559882</td>\n",
       "      <td>-115.637164</td>\n",
       "      <td>Female</td>\n",
       "      <td>...</td>\n",
       "      <td>Yes</td>\n",
       "      <td>Yes</td>\n",
       "      <td>One year</td>\n",
       "      <td>Yes</td>\n",
       "      <td>Credit card (automatic)</td>\n",
       "      <td>103.20</td>\n",
       "      <td>7362.9</td>\n",
       "      <td>No</td>\n",
       "      <td>0</td>\n",
       "      <td>NaN</td>\n",
       "    </tr>\n",
       "    <tr>\n",
       "      <th>7041</th>\n",
       "      <td>4801-JZAZL</td>\n",
       "      <td>1</td>\n",
       "      <td>United States</td>\n",
       "      <td>California</td>\n",
       "      <td>Angelus Oaks</td>\n",
       "      <td>92305</td>\n",
       "      <td>34.1678, -116.86433</td>\n",
       "      <td>34.167800</td>\n",
       "      <td>-116.864330</td>\n",
       "      <td>Female</td>\n",
       "      <td>...</td>\n",
       "      <td>No</td>\n",
       "      <td>No</td>\n",
       "      <td>Month-to-month</td>\n",
       "      <td>Yes</td>\n",
       "      <td>Electronic check</td>\n",
       "      <td>29.60</td>\n",
       "      <td>346.45</td>\n",
       "      <td>No</td>\n",
       "      <td>0</td>\n",
       "      <td>NaN</td>\n",
       "    </tr>\n",
       "    <tr>\n",
       "      <th>7042</th>\n",
       "      <td>3186-AJIEK</td>\n",
       "      <td>1</td>\n",
       "      <td>United States</td>\n",
       "      <td>California</td>\n",
       "      <td>Apple Valley</td>\n",
       "      <td>92308</td>\n",
       "      <td>34.424926, -117.184503</td>\n",
       "      <td>34.424926</td>\n",
       "      <td>-117.184503</td>\n",
       "      <td>Male</td>\n",
       "      <td>...</td>\n",
       "      <td>Yes</td>\n",
       "      <td>Yes</td>\n",
       "      <td>Two year</td>\n",
       "      <td>Yes</td>\n",
       "      <td>Bank transfer (automatic)</td>\n",
       "      <td>105.65</td>\n",
       "      <td>6844.5</td>\n",
       "      <td>No</td>\n",
       "      <td>0</td>\n",
       "      <td>NaN</td>\n",
       "    </tr>\n",
       "  </tbody>\n",
       "</table>\n",
       "<p>5174 rows × 31 columns</p>\n",
       "</div>"
      ],
      "text/plain": [
       "      CustomerID  Count        Country       State          City  Zip Code  \\\n",
       "1869  7590-VHVEG      1  United States  California   Los Angeles     90001   \n",
       "1870  5575-GNVDE      1  United States  California   Los Angeles     90002   \n",
       "1871  7795-CFOCW      1  United States  California   Los Angeles     90004   \n",
       "1872  1452-KIOVK      1  United States  California   Los Angeles     90007   \n",
       "1873  6713-OKOMC      1  United States  California   Los Angeles     90008   \n",
       "...          ...    ...            ...         ...           ...       ...   \n",
       "7038  2569-WGERO      1  United States  California       Landers     92285   \n",
       "7039  6840-RESVB      1  United States  California      Adelanto     92301   \n",
       "7040  2234-XADUH      1  United States  California         Amboy     92304   \n",
       "7041  4801-JZAZL      1  United States  California  Angelus Oaks     92305   \n",
       "7042  3186-AJIEK      1  United States  California  Apple Valley     92308   \n",
       "\n",
       "                    Lat Long   Latitude   Longitude  Gender  ...  \\\n",
       "1869   33.973616, -118.24902  33.973616 -118.249020  Female  ...   \n",
       "1870  33.949255, -118.246978  33.949255 -118.246978    Male  ...   \n",
       "1871  34.076259, -118.310715  34.076259 -118.310715    Male  ...   \n",
       "1872   34.027337, -118.28515  34.027337 -118.285150    Male  ...   \n",
       "1873  34.008293, -118.346766  34.008293 -118.346766  Female  ...   \n",
       "...                      ...        ...         ...     ...  ...   \n",
       "7038  34.341737, -116.539416  34.341737 -116.539416  Female  ...   \n",
       "7039  34.667815, -117.536183  34.667815 -117.536183    Male  ...   \n",
       "7040  34.559882, -115.637164  34.559882 -115.637164  Female  ...   \n",
       "7041     34.1678, -116.86433  34.167800 -116.864330  Female  ...   \n",
       "7042  34.424926, -117.184503  34.424926 -117.184503    Male  ...   \n",
       "\n",
       "             Streaming TV     Streaming Movies        Contract  \\\n",
       "1869                   No                   No  Month-to-month   \n",
       "1870                   No                   No        One year   \n",
       "1871                   No                   No        One year   \n",
       "1872                  Yes                   No  Month-to-month   \n",
       "1873                   No                   No  Month-to-month   \n",
       "...                   ...                  ...             ...   \n",
       "7038  No internet service  No internet service        Two year   \n",
       "7039                  Yes                  Yes        One year   \n",
       "7040                  Yes                  Yes        One year   \n",
       "7041                   No                   No  Month-to-month   \n",
       "7042                  Yes                  Yes        Two year   \n",
       "\n",
       "      Paperless Billing             Payment Method Monthly Charges  \\\n",
       "1869                Yes           Electronic check           29.85   \n",
       "1870                 No               Mailed check           56.95   \n",
       "1871                 No  Bank transfer (automatic)           42.30   \n",
       "1872                Yes    Credit card (automatic)           89.10   \n",
       "1873                 No               Mailed check           29.75   \n",
       "...                 ...                        ...             ...   \n",
       "7038                Yes  Bank transfer (automatic)           21.15   \n",
       "7039                Yes               Mailed check           84.80   \n",
       "7040                Yes    Credit card (automatic)          103.20   \n",
       "7041                Yes           Electronic check           29.60   \n",
       "7042                Yes  Bank transfer (automatic)          105.65   \n",
       "\n",
       "     Total Charges Churn Label Churn Value Churn Reason  \n",
       "1869         29.85          No           0          NaN  \n",
       "1870        1889.5          No           0          NaN  \n",
       "1871       1840.75          No           0          NaN  \n",
       "1872        1949.4          No           0          NaN  \n",
       "1873         301.9          No           0          NaN  \n",
       "...            ...         ...         ...          ...  \n",
       "7038        1419.4          No           0          NaN  \n",
       "7039        1990.5          No           0          NaN  \n",
       "7040        7362.9          No           0          NaN  \n",
       "7041        346.45          No           0          NaN  \n",
       "7042        6844.5          No           0          NaN  \n",
       "\n",
       "[5174 rows x 31 columns]"
      ]
     },
     "execution_count": 12,
     "metadata": {},
     "output_type": "execute_result"
    }
   ],
   "source": [
    "churn_full[churn_full['Churn Reason'].isnull()]"
   ]
  },
  {
   "cell_type": "markdown",
   "id": "c653541f",
   "metadata": {},
   "source": [
    "- Seems like the first 1868 observations are all customers who churned and the ones after are the ones who stayed and thus do not have a value for Churn Reason. So we can group the missing values in Churn Reason into one group."
   ]
  },
  {
   "cell_type": "code",
   "execution_count": 13,
   "id": "74697336",
   "metadata": {},
   "outputs": [
    {
     "data": {
      "text/plain": [
       "1    7043\n",
       "Name: Count, dtype: int64"
      ]
     },
     "execution_count": 13,
     "metadata": {},
     "output_type": "execute_result"
    }
   ],
   "source": [
    "churn_full.Count.value_counts()"
   ]
  },
  {
   "cell_type": "markdown",
   "id": "d07f8d96",
   "metadata": {},
   "source": [
    "- The Count variable only has value of 1, so it is not useful"
   ]
  },
  {
   "cell_type": "markdown",
   "id": "22e545de",
   "metadata": {},
   "source": [
    "#### Inspecting Blank Strings in Total charges"
   ]
  },
  {
   "cell_type": "code",
   "execution_count": 14,
   "id": "179ac390",
   "metadata": {},
   "outputs": [
    {
     "data": {
      "text/html": [
       "<div>\n",
       "<style scoped>\n",
       "    .dataframe tbody tr th:only-of-type {\n",
       "        vertical-align: middle;\n",
       "    }\n",
       "\n",
       "    .dataframe tbody tr th {\n",
       "        vertical-align: top;\n",
       "    }\n",
       "\n",
       "    .dataframe thead th {\n",
       "        text-align: right;\n",
       "    }\n",
       "</style>\n",
       "<table border=\"1\" class=\"dataframe\">\n",
       "  <thead>\n",
       "    <tr style=\"text-align: right;\">\n",
       "      <th></th>\n",
       "      <th>Tenure Months</th>\n",
       "      <th>Contract</th>\n",
       "      <th>Monthly Charges</th>\n",
       "      <th>Total Charges</th>\n",
       "      <th>Churn Label</th>\n",
       "    </tr>\n",
       "  </thead>\n",
       "  <tbody>\n",
       "    <tr>\n",
       "      <th>2234</th>\n",
       "      <td>0</td>\n",
       "      <td>Two year</td>\n",
       "      <td>52.55</td>\n",
       "      <td></td>\n",
       "      <td>No</td>\n",
       "    </tr>\n",
       "    <tr>\n",
       "      <th>2438</th>\n",
       "      <td>0</td>\n",
       "      <td>Two year</td>\n",
       "      <td>20.25</td>\n",
       "      <td></td>\n",
       "      <td>No</td>\n",
       "    </tr>\n",
       "    <tr>\n",
       "      <th>2568</th>\n",
       "      <td>0</td>\n",
       "      <td>Two year</td>\n",
       "      <td>80.85</td>\n",
       "      <td></td>\n",
       "      <td>No</td>\n",
       "    </tr>\n",
       "    <tr>\n",
       "      <th>2667</th>\n",
       "      <td>0</td>\n",
       "      <td>Two year</td>\n",
       "      <td>25.75</td>\n",
       "      <td></td>\n",
       "      <td>No</td>\n",
       "    </tr>\n",
       "    <tr>\n",
       "      <th>2856</th>\n",
       "      <td>0</td>\n",
       "      <td>Two year</td>\n",
       "      <td>56.05</td>\n",
       "      <td></td>\n",
       "      <td>No</td>\n",
       "    </tr>\n",
       "    <tr>\n",
       "      <th>4331</th>\n",
       "      <td>0</td>\n",
       "      <td>Two year</td>\n",
       "      <td>19.85</td>\n",
       "      <td></td>\n",
       "      <td>No</td>\n",
       "    </tr>\n",
       "    <tr>\n",
       "      <th>4687</th>\n",
       "      <td>0</td>\n",
       "      <td>Two year</td>\n",
       "      <td>25.35</td>\n",
       "      <td></td>\n",
       "      <td>No</td>\n",
       "    </tr>\n",
       "    <tr>\n",
       "      <th>5104</th>\n",
       "      <td>0</td>\n",
       "      <td>Two year</td>\n",
       "      <td>20.00</td>\n",
       "      <td></td>\n",
       "      <td>No</td>\n",
       "    </tr>\n",
       "    <tr>\n",
       "      <th>5719</th>\n",
       "      <td>0</td>\n",
       "      <td>One year</td>\n",
       "      <td>19.70</td>\n",
       "      <td></td>\n",
       "      <td>No</td>\n",
       "    </tr>\n",
       "    <tr>\n",
       "      <th>6772</th>\n",
       "      <td>0</td>\n",
       "      <td>Two year</td>\n",
       "      <td>73.35</td>\n",
       "      <td></td>\n",
       "      <td>No</td>\n",
       "    </tr>\n",
       "    <tr>\n",
       "      <th>6840</th>\n",
       "      <td>0</td>\n",
       "      <td>Two year</td>\n",
       "      <td>61.90</td>\n",
       "      <td></td>\n",
       "      <td>No</td>\n",
       "    </tr>\n",
       "  </tbody>\n",
       "</table>\n",
       "</div>"
      ],
      "text/plain": [
       "      Tenure Months  Contract  Monthly Charges Total Charges Churn Label\n",
       "2234              0  Two year            52.55                        No\n",
       "2438              0  Two year            20.25                        No\n",
       "2568              0  Two year            80.85                        No\n",
       "2667              0  Two year            25.75                        No\n",
       "2856              0  Two year            56.05                        No\n",
       "4331              0  Two year            19.85                        No\n",
       "4687              0  Two year            25.35                        No\n",
       "5104              0  Two year            20.00                        No\n",
       "5719              0  One year            19.70                        No\n",
       "6772              0  Two year            73.35                        No\n",
       "6840              0  Two year            61.90                        No"
      ]
     },
     "execution_count": 14,
     "metadata": {},
     "output_type": "execute_result"
    }
   ],
   "source": [
    "churn_full[churn_full['Total Charges'] == \" \"][['Tenure Months', 'Contract', 'Monthly Charges', 'Total Charges', 'Churn Label']]"
   ]
  },
  {
   "cell_type": "markdown",
   "id": "9997db78",
   "metadata": {},
   "source": [
    "- 11 rows have Total Charges as a blank string\n",
    "- Those customers have Tenure Months of 0 and Churn Label of 'No' , suggesting that they are new customers\n",
    "- We might replace their Total Charges by 0"
   ]
  },
  {
   "cell_type": "markdown",
   "id": "3ce706ad",
   "metadata": {},
   "source": [
    "## Data Cleaning"
   ]
  },
  {
   "cell_type": "code",
   "execution_count": 15,
   "id": "4b4646d9",
   "metadata": {},
   "outputs": [],
   "source": [
    "churn_full_cleaned = data_clean(churn_full)"
   ]
  },
  {
   "cell_type": "code",
   "execution_count": 16,
   "id": "a0b45800",
   "metadata": {},
   "outputs": [
    {
     "name": "stdout",
     "output_type": "stream",
     "text": [
      "The variable Churn Reason has 21 unique values: \n",
      "\n",
      "['Competitor made better offer' 'Moved' 'Competitor had better devices'\n",
      " 'Competitor offered higher download speeds'\n",
      " 'Competitor offered more data' 'Price too high' 'Product dissatisfaction'\n",
      " 'Service dissatisfaction' 'Lack of self-service on Website'\n",
      " 'Network reliability' 'Limited range of services'\n",
      " 'Lack of affordable download/upload speed' 'Long distance charges'\n",
      " 'Extra data charges' \"Don't know\" 'Poor expertise of online support'\n",
      " 'Poor expertise of phone support' 'Attitude of service provider'\n",
      " 'Attitude of support person' 'Deceased' 'Current Customer']\n",
      "-------------------------------------------------------------------------- \n",
      "\n"
     ]
    }
   ],
   "source": [
    "unique_values(churn_full_cleaned, 'Churn Reason')"
   ]
  },
  {
   "cell_type": "code",
   "execution_count": 17,
   "id": "7014117a",
   "metadata": {},
   "outputs": [
    {
     "data": {
      "text/plain": [
       "dtype('float64')"
      ]
     },
     "execution_count": 17,
     "metadata": {},
     "output_type": "execute_result"
    }
   ],
   "source": [
    "churn_full_cleaned['Total Charges'].dtypes"
   ]
  },
  {
   "cell_type": "code",
   "execution_count": 18,
   "id": "cb3e70df",
   "metadata": {},
   "outputs": [
    {
     "name": "stdout",
     "output_type": "stream",
     "text": [
      "The variable CustomerID has 7043 unique values: \n",
      "\n",
      "['3668-QPYBK' '9237-HQITU' '9305-CDSKC' ... '2234-XADUH' '4801-JZAZL'\n",
      " '3186-AJIEK']\n",
      "-------------------------------------------------------------------------- \n",
      "\n",
      "The variable Country has 1 unique values: \n",
      "\n",
      "['United States']\n",
      "-------------------------------------------------------------------------- \n",
      "\n",
      "The variable State has 1 unique values: \n",
      "\n",
      "['California']\n",
      "-------------------------------------------------------------------------- \n",
      "\n",
      "The variable City has 1129 unique values: \n",
      "\n",
      "['Los Angeles' 'Beverly Hills' 'Huntington Park' ... 'Standish' 'Tulelake'\n",
      " 'Olympic Valley']\n",
      "-------------------------------------------------------------------------- \n",
      "\n",
      "The variable Lat Long has 1652 unique values: \n",
      "\n",
      "['33.964131, -118.272783' '34.059281, -118.30742' '34.048013, -118.293953'\n",
      " ... '40.346634, -120.386422' '41.813521, -121.492666'\n",
      " '39.191797, -120.212401']\n",
      "-------------------------------------------------------------------------- \n",
      "\n",
      "The variable Gender has 2 unique values: \n",
      "\n",
      "['Male' 'Female']\n",
      "-------------------------------------------------------------------------- \n",
      "\n",
      "The variable Senior Citizen has 2 unique values: \n",
      "\n",
      "['No' 'Yes']\n",
      "-------------------------------------------------------------------------- \n",
      "\n",
      "The variable Partner has 2 unique values: \n",
      "\n",
      "['No' 'Yes']\n",
      "-------------------------------------------------------------------------- \n",
      "\n",
      "The variable Dependents has 2 unique values: \n",
      "\n",
      "['No' 'Yes']\n",
      "-------------------------------------------------------------------------- \n",
      "\n",
      "The variable Phone Service has 2 unique values: \n",
      "\n",
      "['Yes' 'No']\n",
      "-------------------------------------------------------------------------- \n",
      "\n",
      "The variable Multiple Lines has 3 unique values: \n",
      "\n",
      "['No' 'Yes' 'No phone service']\n",
      "-------------------------------------------------------------------------- \n",
      "\n",
      "The variable Internet Service has 3 unique values: \n",
      "\n",
      "['DSL' 'Fiber optic' 'No']\n",
      "-------------------------------------------------------------------------- \n",
      "\n",
      "The variable Online Security has 3 unique values: \n",
      "\n",
      "['Yes' 'No' 'No internet service']\n",
      "-------------------------------------------------------------------------- \n",
      "\n",
      "The variable Online Backup has 3 unique values: \n",
      "\n",
      "['Yes' 'No' 'No internet service']\n",
      "-------------------------------------------------------------------------- \n",
      "\n",
      "The variable Device Protection has 3 unique values: \n",
      "\n",
      "['No' 'Yes' 'No internet service']\n",
      "-------------------------------------------------------------------------- \n",
      "\n",
      "The variable Tech Support has 3 unique values: \n",
      "\n",
      "['No' 'Yes' 'No internet service']\n",
      "-------------------------------------------------------------------------- \n",
      "\n",
      "The variable Streaming TV has 3 unique values: \n",
      "\n",
      "['No' 'Yes' 'No internet service']\n",
      "-------------------------------------------------------------------------- \n",
      "\n",
      "The variable Streaming Movies has 3 unique values: \n",
      "\n",
      "['No' 'Yes' 'No internet service']\n",
      "-------------------------------------------------------------------------- \n",
      "\n",
      "The variable Contract has 3 unique values: \n",
      "\n",
      "['Month-to-month' 'Two year' 'One year']\n",
      "-------------------------------------------------------------------------- \n",
      "\n",
      "The variable Paperless Billing has 2 unique values: \n",
      "\n",
      "['Yes' 'No']\n",
      "-------------------------------------------------------------------------- \n",
      "\n",
      "The variable Payment Method has 4 unique values: \n",
      "\n",
      "['Mailed check' 'Electronic check' 'Bank transfer (automatic)'\n",
      " 'Credit card (automatic)']\n",
      "-------------------------------------------------------------------------- \n",
      "\n",
      "The variable Churn Label has 2 unique values: \n",
      "\n",
      "['Yes' 'No']\n",
      "-------------------------------------------------------------------------- \n",
      "\n",
      "The variable Churn Reason has 21 unique values: \n",
      "\n",
      "['Competitor made better offer' 'Moved' 'Competitor had better devices'\n",
      " 'Competitor offered higher download speeds'\n",
      " 'Competitor offered more data' 'Price too high' 'Product dissatisfaction'\n",
      " 'Service dissatisfaction' 'Lack of self-service on Website'\n",
      " 'Network reliability' 'Limited range of services'\n",
      " 'Lack of affordable download/upload speed' 'Long distance charges'\n",
      " 'Extra data charges' \"Don't know\" 'Poor expertise of online support'\n",
      " 'Poor expertise of phone support' 'Attitude of service provider'\n",
      " 'Attitude of support person' 'Deceased' 'Current Customer']\n",
      "-------------------------------------------------------------------------- \n",
      "\n"
     ]
    }
   ],
   "source": [
    "for i in churn_full_cleaned.select_dtypes(include = 'object').columns:\n",
    "    unique_values(churn_full, i)"
   ]
  },
  {
   "cell_type": "markdown",
   "id": "16b4c055",
   "metadata": {},
   "source": [
    "## EDA"
   ]
  },
  {
   "cell_type": "code",
   "execution_count": 19,
   "id": "ba811e14",
   "metadata": {},
   "outputs": [
    {
     "data": {
      "text/plain": [
       "Index(['CustomerID', 'Count', 'Country', 'State', 'City', 'Zip Code',\n",
       "       'Lat Long', 'Latitude', 'Longitude', 'Gender', 'Senior Citizen',\n",
       "       'Partner', 'Dependents', 'Tenure Months', 'Phone Service',\n",
       "       'Multiple Lines', 'Internet Service', 'Online Security',\n",
       "       'Online Backup', 'Device Protection', 'Tech Support', 'Streaming TV',\n",
       "       'Streaming Movies', 'Contract', 'Paperless Billing', 'Payment Method',\n",
       "       'Monthly Charges', 'Total Charges', 'Churn Label', 'Churn Value',\n",
       "       'Churn Reason'],\n",
       "      dtype='object')"
      ]
     },
     "execution_count": 19,
     "metadata": {},
     "output_type": "execute_result"
    }
   ],
   "source": [
    "churn_full_cleaned.columns"
   ]
  },
  {
   "cell_type": "code",
   "execution_count": 20,
   "id": "77908d24",
   "metadata": {},
   "outputs": [
    {
     "data": {
      "text/html": [
       "<div>\n",
       "<style scoped>\n",
       "    .dataframe tbody tr th:only-of-type {\n",
       "        vertical-align: middle;\n",
       "    }\n",
       "\n",
       "    .dataframe tbody tr th {\n",
       "        vertical-align: top;\n",
       "    }\n",
       "\n",
       "    .dataframe thead th {\n",
       "        text-align: right;\n",
       "    }\n",
       "</style>\n",
       "<table border=\"1\" class=\"dataframe\">\n",
       "  <thead>\n",
       "    <tr style=\"text-align: right;\">\n",
       "      <th></th>\n",
       "      <th>Tenure Months</th>\n",
       "      <th>Monthly Charges</th>\n",
       "      <th>Total Charges</th>\n",
       "      <th>Churn Value</th>\n",
       "    </tr>\n",
       "  </thead>\n",
       "  <tbody>\n",
       "    <tr>\n",
       "      <th>count</th>\n",
       "      <td>7043.000000</td>\n",
       "      <td>7043.000000</td>\n",
       "      <td>7043.000000</td>\n",
       "      <td>7043.000000</td>\n",
       "    </tr>\n",
       "    <tr>\n",
       "      <th>mean</th>\n",
       "      <td>32.371149</td>\n",
       "      <td>64.761692</td>\n",
       "      <td>2279.734304</td>\n",
       "      <td>0.265370</td>\n",
       "    </tr>\n",
       "    <tr>\n",
       "      <th>std</th>\n",
       "      <td>24.559481</td>\n",
       "      <td>30.090047</td>\n",
       "      <td>2266.794470</td>\n",
       "      <td>0.441561</td>\n",
       "    </tr>\n",
       "    <tr>\n",
       "      <th>min</th>\n",
       "      <td>0.000000</td>\n",
       "      <td>18.250000</td>\n",
       "      <td>0.000000</td>\n",
       "      <td>0.000000</td>\n",
       "    </tr>\n",
       "    <tr>\n",
       "      <th>25%</th>\n",
       "      <td>9.000000</td>\n",
       "      <td>35.500000</td>\n",
       "      <td>398.550000</td>\n",
       "      <td>0.000000</td>\n",
       "    </tr>\n",
       "    <tr>\n",
       "      <th>50%</th>\n",
       "      <td>29.000000</td>\n",
       "      <td>70.350000</td>\n",
       "      <td>1394.550000</td>\n",
       "      <td>0.000000</td>\n",
       "    </tr>\n",
       "    <tr>\n",
       "      <th>75%</th>\n",
       "      <td>55.000000</td>\n",
       "      <td>89.850000</td>\n",
       "      <td>3786.600000</td>\n",
       "      <td>1.000000</td>\n",
       "    </tr>\n",
       "    <tr>\n",
       "      <th>max</th>\n",
       "      <td>72.000000</td>\n",
       "      <td>118.750000</td>\n",
       "      <td>8684.800000</td>\n",
       "      <td>1.000000</td>\n",
       "    </tr>\n",
       "  </tbody>\n",
       "</table>\n",
       "</div>"
      ],
      "text/plain": [
       "       Tenure Months  Monthly Charges  Total Charges  Churn Value\n",
       "count    7043.000000      7043.000000    7043.000000  7043.000000\n",
       "mean       32.371149        64.761692    2279.734304     0.265370\n",
       "std        24.559481        30.090047    2266.794470     0.441561\n",
       "min         0.000000        18.250000       0.000000     0.000000\n",
       "25%         9.000000        35.500000     398.550000     0.000000\n",
       "50%        29.000000        70.350000    1394.550000     0.000000\n",
       "75%        55.000000        89.850000    3786.600000     1.000000\n",
       "max        72.000000       118.750000    8684.800000     1.000000"
      ]
     },
     "execution_count": 20,
     "metadata": {},
     "output_type": "execute_result"
    }
   ],
   "source": [
    "churn_full_cleaned[['Tenure Months', 'Monthly Charges', 'Total Charges', 'Churn Value']].describe()"
   ]
  },
  {
   "cell_type": "code",
   "execution_count": 21,
   "id": "69aa26bd",
   "metadata": {},
   "outputs": [
    {
     "data": {
      "text/plain": [
       "0    5174\n",
       "1    1869\n",
       "Name: Churn Value, dtype: int64"
      ]
     },
     "execution_count": 21,
     "metadata": {},
     "output_type": "execute_result"
    }
   ],
   "source": [
    "churn_full_cleaned['Churn Value'].value_counts()"
   ]
  },
  {
   "cell_type": "markdown",
   "id": "c8ca9d3e",
   "metadata": {},
   "source": [
    "#### We can see that there is a label imbalance in our response variable (around 3:1), so we might consider using oversampling or undersampling or both"
   ]
  },
  {
   "cell_type": "markdown",
   "id": "3e123523",
   "metadata": {},
   "source": [
    "### Gender"
   ]
  },
  {
   "cell_type": "code",
   "execution_count": 23,
   "id": "147ac44b",
   "metadata": {},
   "outputs": [
    {
     "data": {
      "image/png": "[encoded data removed]",
      "text/plain": [
       "<Figure size 432x288 with 1 Axes>"
      ]
     },
     "metadata": {
      "needs_background": "light"
     },
     "output_type": "display_data"
    }
   ],
   "source": [
    "churn_full_cleaned.groupby('Gender')['Churn Value'].mean().plot(kind = 'barh')\n",
    "plt.show()"
   ]
  },
  {
   "cell_type": "markdown",
   "id": "c166590d",
   "metadata": {},
   "source": [
    "- No big difference between male and female, so gender might not be a good predictor"
   ]
  },
  {
   "cell_type": "markdown",
   "id": "8fab2ebb",
   "metadata": {},
   "source": [
    "### Senior Citizen"
   ]
  },
  {
   "cell_type": "code",
   "execution_count": 55,
   "id": "1a67a39c",
   "metadata": {},
   "outputs": [
    {
     "data": {
      "image/png": "[encoded data removed]",
      "text/plain": [
       "<Figure size 432x288 with 1 Axes>"
      ]
     },
     "metadata": {
      "needs_background": "light"
     },
     "output_type": "display_data"
    }
   ],
   "source": [
    "churn_full_cleaned.groupby('Senior Citizen')['Churn Value'].mean().plot(kind = 'barh')\n",
    "plt.show()"
   ]
  },
  {
   "cell_type": "code",
   "execution_count": 95,
   "id": "e16276c0",
   "metadata": {},
   "outputs": [
    {
     "data": {
      "text/plain": [
       "Senior Citizen\n",
       "No     61.847441\n",
       "Yes    79.820359\n",
       "Name: Monthly Charges, dtype: float64"
      ]
     },
     "execution_count": 95,
     "metadata": {},
     "output_type": "execute_result"
    }
   ],
   "source": [
    "churn_full_cleaned.groupby('Senior Citizen')['Monthly Charges'].mean()"
   ]
  },
  {
   "cell_type": "markdown",
   "id": "005ca89b",
   "metadata": {},
   "source": [
    "- Seniors are paying around 18 dollars more on average than non-seniors"
   ]
  },
  {
   "cell_type": "code",
   "execution_count": 94,
   "id": "00b8c8f7",
   "metadata": {},
   "outputs": [
    {
     "data": {
      "text/html": [
       "<div>\n",
       "<style scoped>\n",
       "    .dataframe tbody tr th:only-of-type {\n",
       "        vertical-align: middle;\n",
       "    }\n",
       "\n",
       "    .dataframe tbody tr th {\n",
       "        vertical-align: top;\n",
       "    }\n",
       "\n",
       "    .dataframe thead tr th {\n",
       "        text-align: left;\n",
       "    }\n",
       "</style>\n",
       "<table border=\"1\" class=\"dataframe\">\n",
       "  <thead>\n",
       "    <tr>\n",
       "      <th></th>\n",
       "      <th>Senior Citizen</th>\n",
       "      <th>Churn Label</th>\n",
       "      <th>Monthly Charges</th>\n",
       "      <th>Tenure Months</th>\n",
       "      <th>Total Charges</th>\n",
       "    </tr>\n",
       "    <tr>\n",
       "      <th></th>\n",
       "      <th></th>\n",
       "      <th></th>\n",
       "      <th>mean</th>\n",
       "      <th>mean</th>\n",
       "      <th>mean</th>\n",
       "    </tr>\n",
       "  </thead>\n",
       "  <tbody>\n",
       "    <tr>\n",
       "      <th>0</th>\n",
       "      <td>No</td>\n",
       "      <td>No</td>\n",
       "      <td>58.618123</td>\n",
       "      <td>36.906610</td>\n",
       "      <td>2410.402773</td>\n",
       "    </tr>\n",
       "    <tr>\n",
       "      <th>1</th>\n",
       "      <td>No</td>\n",
       "      <td>Yes</td>\n",
       "      <td>72.298098</td>\n",
       "      <td>16.935391</td>\n",
       "      <td>1421.767229</td>\n",
       "    </tr>\n",
       "    <tr>\n",
       "      <th>2</th>\n",
       "      <td>Yes</td>\n",
       "      <td>No</td>\n",
       "      <td>79.182057</td>\n",
       "      <td>42.060060</td>\n",
       "      <td>3494.213363</td>\n",
       "    </tr>\n",
       "    <tr>\n",
       "      <th>3</th>\n",
       "      <td>Yes</td>\n",
       "      <td>Yes</td>\n",
       "      <td>80.713445</td>\n",
       "      <td>21.033613</td>\n",
       "      <td>1853.792332</td>\n",
       "    </tr>\n",
       "  </tbody>\n",
       "</table>\n",
       "</div>"
      ],
      "text/plain": [
       "  Senior Citizen Churn Label Monthly Charges Tenure Months Total Charges\n",
       "                                        mean          mean          mean\n",
       "0             No          No       58.618123     36.906610   2410.402773\n",
       "1             No         Yes       72.298098     16.935391   1421.767229\n",
       "2            Yes          No       79.182057     42.060060   3494.213363\n",
       "3            Yes         Yes       80.713445     21.033613   1853.792332"
      ]
     },
     "execution_count": 94,
     "metadata": {},
     "output_type": "execute_result"
    }
   ],
   "source": [
    "churn_full_cleaned.groupby(['Senior Citizen', 'Churn Label']).agg({'Monthly Charges': ['mean'], 'Tenure Months': ['mean'], 'Total Charges': ['mean']}).reset_index()"
   ]
  },
  {
   "cell_type": "code",
   "execution_count": 90,
   "id": "17d477a5",
   "metadata": {
    "scrolled": false
   },
   "outputs": [
    {
     "data": {
      "image/png": "[encoded data removed]",
      "text/plain": [
       "<Figure size 720x720 with 1 Axes>"
      ]
     },
     "metadata": {
      "needs_background": "light"
     },
     "output_type": "display_data"
    }
   ],
   "source": [
    "plt.figure(figsize = (10, 10))\n",
    "sns.boxplot(x = 'Senior Citizen',\n",
    "            y = 'Monthly Charges',\n",
    "            hue = 'Churn Label',\n",
    "            data = churn_full_cleaned)\n",
    "plt.legend(loc = 'lower right', title = 'Churned')\n",
    "plt.title('Boxplot of Monthly Charges Against Senior Citizen')\n",
    "plt.show()"
   ]
  },
  {
   "cell_type": "code",
   "execution_count": 99,
   "id": "67e9e62a",
   "metadata": {},
   "outputs": [
    {
     "data": {
      "image/png": "[encoded data removed]",
      "text/plain": [
       "<Figure size 720x720 with 1 Axes>"
      ]
     },
     "metadata": {
      "needs_background": "light"
     },
     "output_type": "display_data"
    }
   ],
   "source": [
    "plt.figure(figsize = (10, 10))\n",
    "sns.boxplot(x = 'Senior Citizen',\n",
    "            y = 'Tenure Months',\n",
    "            hue = 'Churn Label',\n",
    "            data = churn_full_cleaned)\n",
    "plt.legend(loc = 'lower right', title = 'Churned')\n",
    "plt.title('Boxplot of Tenure Months Against Senior Citizen')\n",
    "plt.show()"
   ]
  },
  {
   "cell_type": "markdown",
   "id": "242078c9",
   "metadata": {},
   "source": [
    "- Senior customers are more likely to churn\n",
    "- They also pay slightly more on average compared to non-senior churners"
   ]
  },
  {
   "cell_type": "code",
   "execution_count": 67,
   "id": "e25a9409",
   "metadata": {},
   "outputs": [
    {
     "data": {
      "image/png": "[encoded data removed]",
      "text/plain": [
       "<Figure size 432x288 with 1 Axes>"
      ]
     },
     "metadata": {
      "needs_background": "light"
     },
     "output_type": "display_data"
    }
   ],
   "source": [
    "churn_full_cleaned.groupby(['Senior Citizen', 'Gender'])['Churn Value'].mean().plot(kind = 'barh')\n",
    "plt.show()"
   ]
  },
  {
   "cell_type": "markdown",
   "id": "9bdc4e50",
   "metadata": {},
   "source": [
    "- Again, gender does not make a difference"
   ]
  },
  {
   "cell_type": "markdown",
   "id": "4bd55862",
   "metadata": {},
   "source": [
    "### Partner"
   ]
  },
  {
   "cell_type": "code",
   "execution_count": 25,
   "id": "fd031e92",
   "metadata": {},
   "outputs": [
    {
     "data": {
      "image/png": "[encoded data removed]",
      "text/plain": [
       "<Figure size 432x288 with 1 Axes>"
      ]
     },
     "metadata": {
      "needs_background": "light"
     },
     "output_type": "display_data"
    }
   ],
   "source": [
    "churn_full_cleaned.groupby('Partner')['Churn Value'].mean().plot(kind = 'barh')\n",
    "plt.show()"
   ]
  },
  {
   "cell_type": "code",
   "execution_count": 98,
   "id": "0f076b3b",
   "metadata": {},
   "outputs": [
    {
     "data": {
      "text/html": [
       "<div>\n",
       "<style scoped>\n",
       "    .dataframe tbody tr th:only-of-type {\n",
       "        vertical-align: middle;\n",
       "    }\n",
       "\n",
       "    .dataframe tbody tr th {\n",
       "        vertical-align: top;\n",
       "    }\n",
       "\n",
       "    .dataframe thead tr th {\n",
       "        text-align: left;\n",
       "    }\n",
       "\n",
       "    .dataframe thead tr:last-of-type th {\n",
       "        text-align: right;\n",
       "    }\n",
       "</style>\n",
       "<table border=\"1\" class=\"dataframe\">\n",
       "  <thead>\n",
       "    <tr>\n",
       "      <th></th>\n",
       "      <th></th>\n",
       "      <th>Monthly Charges</th>\n",
       "      <th>Tenure Months</th>\n",
       "      <th>CustomerID</th>\n",
       "    </tr>\n",
       "    <tr>\n",
       "      <th></th>\n",
       "      <th></th>\n",
       "      <th>mean</th>\n",
       "      <th>mean</th>\n",
       "      <th>count</th>\n",
       "    </tr>\n",
       "    <tr>\n",
       "      <th>Partner</th>\n",
       "      <th>Churn Label</th>\n",
       "      <th></th>\n",
       "      <th></th>\n",
       "      <th></th>\n",
       "    </tr>\n",
       "  </thead>\n",
       "  <tbody>\n",
       "    <tr>\n",
       "      <th rowspan=\"2\" valign=\"top\">No</th>\n",
       "      <th>No</th>\n",
       "      <td>57.271856</td>\n",
       "      <td>28.362966</td>\n",
       "      <td>2441</td>\n",
       "    </tr>\n",
       "    <tr>\n",
       "      <th>Yes</th>\n",
       "      <td>71.450958</td>\n",
       "      <td>13.176667</td>\n",
       "      <td>1200</td>\n",
       "    </tr>\n",
       "    <tr>\n",
       "      <th rowspan=\"2\" valign=\"top\">Yes</th>\n",
       "      <th>No</th>\n",
       "      <td>64.831742</td>\n",
       "      <td>45.793267</td>\n",
       "      <td>2733</td>\n",
       "    </tr>\n",
       "    <tr>\n",
       "      <th>Yes</th>\n",
       "      <td>79.805232</td>\n",
       "      <td>26.593423</td>\n",
       "      <td>669</td>\n",
       "    </tr>\n",
       "  </tbody>\n",
       "</table>\n",
       "</div>"
      ],
      "text/plain": [
       "                    Monthly Charges Tenure Months CustomerID\n",
       "                               mean          mean      count\n",
       "Partner Churn Label                                         \n",
       "No      No                57.271856     28.362966       2441\n",
       "        Yes               71.450958     13.176667       1200\n",
       "Yes     No                64.831742     45.793267       2733\n",
       "        Yes               79.805232     26.593423        669"
      ]
     },
     "execution_count": 98,
     "metadata": {},
     "output_type": "execute_result"
    }
   ],
   "source": [
    "churn_full_cleaned.groupby(['Partner', 'Churn Label']).agg({'Monthly Charges': ['mean'], 'Tenure Months': ['mean'], 'CustomerID': ['count']})"
   ]
  },
  {
   "cell_type": "markdown",
   "id": "05ad9277",
   "metadata": {},
   "source": [
    "### Dependents"
   ]
  },
  {
   "cell_type": "code",
   "execution_count": 26,
   "id": "66fa7c5a",
   "metadata": {},
   "outputs": [
    {
     "data": {
      "image/png": "[encoded data removed]",
      "text/plain": [
       "<Figure size 432x288 with 1 Axes>"
      ]
     },
     "metadata": {
      "needs_background": "light"
     },
     "output_type": "display_data"
    }
   ],
   "source": [
    "churn_full_cleaned.groupby('Dependents')['Churn Value'].mean().plot(kind = 'barh')\n",
    "plt.show()"
   ]
  },
  {
   "cell_type": "markdown",
   "id": "3ab1b761",
   "metadata": {},
   "source": [
    "### Phone Service"
   ]
  },
  {
   "cell_type": "code",
   "execution_count": 27,
   "id": "e6f70c13",
   "metadata": {},
   "outputs": [
    {
     "data": {
      "image/png": "[encoded data removed]",
      "text/plain": [
       "<Figure size 432x288 with 1 Axes>"
      ]
     },
     "metadata": {
      "needs_background": "light"
     },
     "output_type": "display_data"
    }
   ],
   "source": [
    "churn_full_cleaned.groupby('Phone Service')['Churn Value'].mean().plot(kind = 'barh')\n",
    "plt.show()"
   ]
  },
  {
   "cell_type": "markdown",
   "id": "bf5f687b",
   "metadata": {},
   "source": [
    "### Multiple Lines"
   ]
  },
  {
   "cell_type": "code",
   "execution_count": 28,
   "id": "f468bc92",
   "metadata": {},
   "outputs": [
    {
     "data": {
      "image/png": "[encoded data removed]",
      "text/plain": [
       "<Figure size 432x288 with 1 Axes>"
      ]
     },
     "metadata": {
      "needs_background": "light"
     },
     "output_type": "display_data"
    }
   ],
   "source": [
    "churn_full_cleaned.groupby('Multiple Lines')['Churn Value'].mean().plot(kind = 'barh')\n",
    "plt.show()"
   ]
  },
  {
   "cell_type": "markdown",
   "id": "0fef1e0e",
   "metadata": {},
   "source": [
    "### Internet Service"
   ]
  },
  {
   "cell_type": "code",
   "execution_count": 29,
   "id": "d4fe5a53",
   "metadata": {},
   "outputs": [
    {
     "data": {
      "image/png": "[encoded data removed]",
      "text/plain": [
       "<Figure size 432x288 with 1 Axes>"
      ]
     },
     "metadata": {
      "needs_background": "light"
     },
     "output_type": "display_data"
    }
   ],
   "source": [
    "churn_full_cleaned.groupby('Internet Service')['Churn Value'].mean().plot(kind = 'barh')\n",
    "plt.show()"
   ]
  },
  {
   "cell_type": "code",
   "execution_count": 30,
   "id": "719571b8",
   "metadata": {},
   "outputs": [
    {
     "data": {
      "text/plain": [
       "Internet Service\n",
       "DSL            2421\n",
       "Fiber optic    3096\n",
       "No             1526\n",
       "Name: CustomerID, dtype: int64"
      ]
     },
     "execution_count": 30,
     "metadata": {},
     "output_type": "execute_result"
    }
   ],
   "source": [
    "churn_full_cleaned.groupby('Internet Service')['CustomerID'].count()"
   ]
  },
  {
   "cell_type": "markdown",
   "id": "c4180c62",
   "metadata": {},
   "source": [
    "### Online Security"
   ]
  },
  {
   "cell_type": "code",
   "execution_count": 31,
   "id": "bd7deab5",
   "metadata": {},
   "outputs": [
    {
     "data": {
      "image/png": "[encoded data removed]",
      "text/plain": [
       "<Figure size 432x288 with 1 Axes>"
      ]
     },
     "metadata": {
      "needs_background": "light"
     },
     "output_type": "display_data"
    }
   ],
   "source": [
    "churn_full_cleaned.groupby('Online Security')['Churn Value'].mean().plot(kind = 'barh')\n",
    "plt.show()"
   ]
  },
  {
   "cell_type": "code",
   "execution_count": 32,
   "id": "191ae3ab",
   "metadata": {},
   "outputs": [
    {
     "data": {
      "text/plain": [
       "Online Security\n",
       "No                     3498\n",
       "No internet service    1526\n",
       "Yes                    2019\n",
       "Name: CustomerID, dtype: int64"
      ]
     },
     "execution_count": 32,
     "metadata": {},
     "output_type": "execute_result"
    }
   ],
   "source": [
    "churn_full_cleaned.groupby('Online Security')['CustomerID'].count()"
   ]
  },
  {
   "cell_type": "markdown",
   "id": "9836bcaf",
   "metadata": {},
   "source": [
    "### Online Backup"
   ]
  },
  {
   "cell_type": "code",
   "execution_count": 33,
   "id": "de1bdb98",
   "metadata": {},
   "outputs": [
    {
     "data": {
      "image/png": "[encoded data removed]",
      "text/plain": [
       "<Figure size 432x288 with 1 Axes>"
      ]
     },
     "metadata": {
      "needs_background": "light"
     },
     "output_type": "display_data"
    }
   ],
   "source": [
    "churn_full_cleaned.groupby('Online Backup')['Churn Value'].mean().plot(kind = 'barh')\n",
    "plt.show()"
   ]
  },
  {
   "cell_type": "code",
   "execution_count": 34,
   "id": "6ad3cb6a",
   "metadata": {},
   "outputs": [
    {
     "data": {
      "text/plain": [
       "Online Backup\n",
       "No                     3088\n",
       "No internet service    1526\n",
       "Yes                    2429\n",
       "Name: CustomerID, dtype: int64"
      ]
     },
     "execution_count": 34,
     "metadata": {},
     "output_type": "execute_result"
    }
   ],
   "source": [
    "churn_full_cleaned.groupby('Online Backup')['CustomerID'].count()"
   ]
  },
  {
   "cell_type": "markdown",
   "id": "34fc694e",
   "metadata": {},
   "source": [
    "### Device Protection"
   ]
  },
  {
   "cell_type": "code",
   "execution_count": 35,
   "id": "919425ae",
   "metadata": {},
   "outputs": [
    {
     "data": {
      "image/png": "[encoded data removed]",
      "text/plain": [
       "<Figure size 432x288 with 1 Axes>"
      ]
     },
     "metadata": {
      "needs_background": "light"
     },
     "output_type": "display_data"
    }
   ],
   "source": [
    "churn_full_cleaned.groupby('Device Protection')['Churn Value'].mean().plot(kind = 'barh')\n",
    "plt.show()"
   ]
  },
  {
   "cell_type": "markdown",
   "id": "41feef04",
   "metadata": {},
   "source": [
    "### Tech Support"
   ]
  },
  {
   "cell_type": "code",
   "execution_count": 36,
   "id": "4cb0a6b8",
   "metadata": {},
   "outputs": [
    {
     "data": {
      "image/png": "[encoded data removed]",
      "text/plain": [
       "<Figure size 432x288 with 1 Axes>"
      ]
     },
     "metadata": {
      "needs_background": "light"
     },
     "output_type": "display_data"
    }
   ],
   "source": [
    "churn_full_cleaned.groupby('Tech Support')['Churn Value'].mean().plot(kind = 'barh')\n",
    "plt.show()"
   ]
  },
  {
   "cell_type": "markdown",
   "id": "609d7872",
   "metadata": {},
   "source": [
    "### Streaming TV"
   ]
  },
  {
   "cell_type": "code",
   "execution_count": 37,
   "id": "554b8f70",
   "metadata": {},
   "outputs": [
    {
     "data": {
      "image/png": "[encoded data removed]",
      "text/plain": [
       "<Figure size 432x288 with 1 Axes>"
      ]
     },
     "metadata": {
      "needs_background": "light"
     },
     "output_type": "display_data"
    }
   ],
   "source": [
    "churn_full_cleaned.groupby('Streaming TV')['Churn Value'].mean().plot(kind = 'barh')\n",
    "plt.show()"
   ]
  },
  {
   "cell_type": "markdown",
   "id": "fe828ed8",
   "metadata": {},
   "source": [
    "### Streaming Movies"
   ]
  },
  {
   "cell_type": "code",
   "execution_count": 38,
   "id": "dc2e9507",
   "metadata": {},
   "outputs": [
    {
     "data": {
      "image/png": "[encoded data removed]",
      "text/plain": [
       "<Figure size 432x288 with 1 Axes>"
      ]
     },
     "metadata": {
      "needs_background": "light"
     },
     "output_type": "display_data"
    }
   ],
   "source": [
    "churn_full_cleaned.groupby('Streaming Movies')['Churn Value'].mean().plot(kind = 'barh')\n",
    "plt.show()"
   ]
  },
  {
   "cell_type": "markdown",
   "id": "c839a814",
   "metadata": {},
   "source": [
    "### Contract"
   ]
  },
  {
   "cell_type": "code",
   "execution_count": 39,
   "id": "5f957da3",
   "metadata": {},
   "outputs": [
    {
     "data": {
      "image/png": "[encoded data removed]",
      "text/plain": [
       "<Figure size 432x288 with 1 Axes>"
      ]
     },
     "metadata": {
      "needs_background": "light"
     },
     "output_type": "display_data"
    }
   ],
   "source": [
    "churn_full_cleaned.groupby('Contract')['Churn Value'].mean().plot(kind = 'barh')\n",
    "plt.show()"
   ]
  },
  {
   "cell_type": "markdown",
   "id": "76081221",
   "metadata": {},
   "source": [
    "### Paperless Billing"
   ]
  },
  {
   "cell_type": "code",
   "execution_count": 100,
   "id": "4a7df8c3",
   "metadata": {},
   "outputs": [
    {
     "data": {
      "image/png": "[encoded data removed]",
      "text/plain": [
       "<Figure size 432x288 with 1 Axes>"
      ]
     },
     "metadata": {
      "needs_background": "light"
     },
     "output_type": "display_data"
    }
   ],
   "source": [
    "churn_full_cleaned.groupby('Paperless Billing')['Churn Value'].mean().plot(kind = 'barh')\n",
    "plt.show()"
   ]
  },
  {
   "cell_type": "markdown",
   "id": "f924cbf5",
   "metadata": {},
   "source": [
    "### Payment Method"
   ]
  },
  {
   "cell_type": "code",
   "execution_count": 41,
   "id": "a23c9e2b",
   "metadata": {},
   "outputs": [
    {
     "data": {
      "image/png": "[encoded data removed]",
      "text/plain": [
       "<Figure size 432x288 with 1 Axes>"
      ]
     },
     "metadata": {
      "needs_background": "light"
     },
     "output_type": "display_data"
    }
   ],
   "source": [
    "churn_full_cleaned.groupby('Payment Method')['Churn Value'].mean().plot(kind = 'barh')\n",
    "plt.show()"
   ]
  },
  {
   "cell_type": "markdown",
   "id": "4e4fc91a",
   "metadata": {},
   "source": [
    "### Monthly Charges"
   ]
  },
  {
   "cell_type": "code",
   "execution_count": 43,
   "id": "3be69dfe",
   "metadata": {},
   "outputs": [
    {
     "data": {
      "image/png": "[encoded data removed]",
      "text/plain": [
       "<Figure size 324.8x158.4 with 2 Axes>"
      ]
     },
     "metadata": {
      "needs_background": "light"
     },
     "output_type": "display_data"
    }
   ],
   "source": [
    "g = sns.FacetGrid(churn_full_cleaned, col = 'Churn Value', height = 2.2)\n",
    "g.map(plt.hist, 'Monthly Charges', alpha = 0.6, bins = 20)\n",
    "g.add_legend()\n",
    "plt.show()"
   ]
  },
  {
   "cell_type": "code",
   "execution_count": 49,
   "id": "2af507a1",
   "metadata": {},
   "outputs": [
    {
     "data": {
      "image/png": "[encoded data removed]",
      "text/plain": [
       "<Figure size 720x576 with 1 Axes>"
      ]
     },
     "metadata": {
      "needs_background": "light"
     },
     "output_type": "display_data"
    }
   ],
   "source": [
    "kde_plot(churn_full_cleaned, 'Monthly Charges')"
   ]
  },
  {
   "cell_type": "markdown",
   "id": "351d7d48",
   "metadata": {},
   "source": [
    "### Total Charges"
   ]
  },
  {
   "cell_type": "code",
   "execution_count": 44,
   "id": "0fab0fcc",
   "metadata": {},
   "outputs": [
    {
     "data": {
      "image/png": "[encoded data removed]",
      "text/plain": [
       "<Figure size 432x288 with 1 Axes>"
      ]
     },
     "metadata": {
      "needs_background": "light"
     },
     "output_type": "display_data"
    }
   ],
   "source": [
    "churn_full_cleaned.groupby('Churn Value')['Total Charges'].mean().plot(kind = 'barh')\n",
    "plt.show()"
   ]
  },
  {
   "cell_type": "code",
   "execution_count": 45,
   "id": "7f0abd2b",
   "metadata": {},
   "outputs": [
    {
     "data": {
      "image/png": "[encoded data removed]",
      "text/plain": [
       "<Figure size 324.8x158.4 with 2 Axes>"
      ]
     },
     "metadata": {
      "needs_background": "light"
     },
     "output_type": "display_data"
    }
   ],
   "source": [
    "g = sns.FacetGrid(churn_full_cleaned, col = 'Churn Value', height = 2.2)\n",
    "g.map(plt.hist, 'Total Charges', alpha = 0.6, bins = 20)\n",
    "g.add_legend()\n",
    "plt.show()"
   ]
  },
  {
   "cell_type": "code",
   "execution_count": 51,
   "id": "cbd2b0f3",
   "metadata": {},
   "outputs": [
    {
     "data": {
      "image/png": "[encoded data removed]",
      "text/plain": [
       "<Figure size 720x576 with 1 Axes>"
      ]
     },
     "metadata": {
      "needs_background": "light"
     },
     "output_type": "display_data"
    }
   ],
   "source": [
    "kde_plot(churn_full_cleaned, 'Total Charges')"
   ]
  },
  {
   "cell_type": "markdown",
   "id": "c6432efb",
   "metadata": {},
   "source": [
    "### Tenure Months"
   ]
  },
  {
   "cell_type": "code",
   "execution_count": 46,
   "id": "afcab7d0",
   "metadata": {},
   "outputs": [
    {
     "data": {
      "image/png": "[encoded data removed]",
      "text/plain": [
       "<Figure size 324.8x158.4 with 2 Axes>"
      ]
     },
     "metadata": {
      "needs_background": "light"
     },
     "output_type": "display_data"
    }
   ],
   "source": [
    "g = sns.FacetGrid(churn_full_cleaned, col = 'Churn Value', height = 2.2)\n",
    "g.map(plt.hist, 'Tenure Months', alpha = 0.6, bins = 20)\n",
    "g.add_legend()\n",
    "plt.show()"
   ]
  },
  {
   "cell_type": "code",
   "execution_count": 47,
   "id": "d8a4925c",
   "metadata": {},
   "outputs": [
    {
     "data": {
      "image/png": "[encoded data removed]",
      "text/plain": [
       "<Figure size 720x576 with 1 Axes>"
      ]
     },
     "metadata": {
      "needs_background": "light"
     },
     "output_type": "display_data"
    }
   ],
   "source": [
    "kde_plot(churn_full_cleaned, 'Tenure Months')"
   ]
  }
 ],
 "metadata": {
  "kernelspec": {
   "display_name": "Python 3",
   "language": "python",
   "name": "python3"
  },
  "language_info": {
   "codemirror_mode": {
    "name": "ipython",
    "version": 3
   },
   "file_extension": ".py",
   "mimetype": "text/x-python",
   "name": "python",
   "nbconvert_exporter": "python",
   "pygments_lexer": "ipython3",
   "version": "3.7.4"
  }
 },
 "nbformat": 4,
 "nbformat_minor": 5
}
