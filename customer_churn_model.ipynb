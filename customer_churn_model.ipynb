{
 "cells": [
  {
   "cell_type": "markdown",
   "id": "c9e621de",
   "metadata": {},
   "source": [
    "# Customer Churn Modelling\n",
    "\n",
    "### Team members: Ellisha, Ikram, Brian\n",
    "\n",
    "This project aims to predict customer churn in Telco company. The dataset contains 7043 observations and 31 variables and can be found on [Kaggle](https://www.kaggle.com/yeanzc/telco-customer-churn-ibm-dataset).\n",
    "\n",
    "This workbook focuses on the modelling part, where I attempt to build a model with the best result. The attempted models include logistic regression, support vector machine, decision trees, and random forest. Since the labels are imbalanced, oversampling techniques, such as SMOTE and ADASYN, are also tried. The best model is random forest and is used as the final model for the churn prediction."
   ]
  },
  {
   "cell_type": "markdown",
   "id": "ab886de4",
   "metadata": {},
   "source": [
    "## Loading Libraries"
   ]
  },
  {
   "cell_type": "code",
   "execution_count": 1,
   "id": "7ad5ae88",
   "metadata": {},
   "outputs": [],
   "source": [
    "## Dataset manipulation\n",
    "import pandas as pd \n",
    "import numpy as np \n",
    "\n",
    "## Visualisation\n",
    "import seaborn as sns \n",
    "import matplotlib.pyplot as plt \n",
    "\n",
    "## Preprocessing\n",
    "import category_encoders as ce\n",
    "from sklearn.preprocessing import OneHotEncoder, StandardScaler\n",
    "\n",
    "## Oversampling\n",
    "from imblearn.over_sampling import ADASYN, SMOTE\n",
    "from imblearn.combine import SMOTEENN\n",
    "\n",
    "## Train Test Split\n",
    "from sklearn.model_selection import train_test_split\n",
    "\n",
    "## Logistic Regression\n",
    "import statsmodels.api as sm\n",
    "from sklearn.linear_model import LogisticRegression\n",
    "\n",
    "## Support Vector Machine\n",
    "from sklearn import svm\n",
    "from sklearn.svm import SVC, LinearSVC\n",
    "\n",
    "## Decision Trees\n",
    "from sklearn.tree import DecisionTreeClassifier\n",
    "from sklearn import tree\n",
    "\n",
    "## Random Forest and ensembles\n",
    "from sklearn.ensemble import BaggingClassifier, RandomForestClassifier, ExtraTreesClassifier\n",
    "\n",
    "## Tree Interpreter\n",
    "from treeinterpreter import treeinterpreter as ti\n",
    "\n",
    "## Evaluation metrics\n",
    "from sklearn import metrics\n",
    "from sklearn.metrics import confusion_matrix, accuracy_score, classification_report, roc_auc_score, roc_curve\n",
    "from sklearn.model_selection import GridSearchCV, cross_val_score, RandomizedSearchCV"
   ]
  },
  {
   "cell_type": "markdown",
   "id": "9428891a",
   "metadata": {},
   "source": [
    "## Writing Functions"
   ]
  },
  {
   "cell_type": "markdown",
   "id": "343b8f8c",
   "metadata": {},
   "source": [
    "### Unique Values Function"
   ]
  },
  {
   "cell_type": "code",
   "execution_count": 2,
   "id": "120cf555",
   "metadata": {},
   "outputs": [],
   "source": [
    "def unique_values(df, variable):\n",
    "    \n",
    "    \"\"\"\n",
    "    Function to print unique values and their counts for a variable\n",
    "    ----------------------------------------------------------------\n",
    "    df: dataframe\n",
    "    variable: name of variable in string\n",
    "    \"\"\"\n",
    "    \n",
    "    print(f'The variable {variable} has {len(df[variable].unique())} unique values: \\n')\n",
    "    print(f'{df[variable].unique()}')\n",
    "    print(f'-------------------------------------------------------------------------- \\n')"
   ]
  },
  {
   "cell_type": "markdown",
   "id": "6de98d45",
   "metadata": {},
   "source": [
    "### Missing Values Function"
   ]
  },
  {
   "cell_type": "code",
   "execution_count": 3,
   "id": "0ef08e47",
   "metadata": {},
   "outputs": [],
   "source": [
    "def missing(df):\n",
    "    \n",
    "    \"\"\"\n",
    "    Function to show the counts of missing values of each variable and their percentages out of the whole dataset\n",
    "    --------------------------------------------------------------------------------------------------------------\n",
    "    df: dataframe\n",
    "    \"\"\"\n",
    "    \n",
    "    variables = df.columns\n",
    "    missings = df.isnull().sum()\n",
    "    percent = round(missings/df.shape[0], 3)\n",
    "    \n",
    "    result = pd.DataFrame(list(zip(variables, missings, percent)))\n",
    "    result.columns = ['Variables', 'Count', 'Percentage']\n",
    "    result = result.sort_values(by = 'Count', ascending = False)\n",
    "    \n",
    "    print(result)"
   ]
  },
  {
   "cell_type": "markdown",
   "id": "0493461a",
   "metadata": {},
   "source": [
    "### Data Cleaning Function"
   ]
  },
  {
   "cell_type": "code",
   "execution_count": 4,
   "id": "5b41fcc7",
   "metadata": {},
   "outputs": [],
   "source": [
    "def data_clean(df):\n",
    "    \n",
    "    \"\"\"\n",
    "    Function to clean a dataframe\n",
    "    ------------------------------\n",
    "    df: dataframe\n",
    "    \"\"\"\n",
    "    \n",
    "    ## Fill missing values in Churn Reason\n",
    "    df['Churn Reason'] = df['Churn Reason'].fillna('Current Customer')\n",
    "    \n",
    "    ## Replace blank strings to 0 in Total Charges: their Tenure Months are 0, suggesting that they are new customers\n",
    "    ## Convert Total Charges to float\n",
    "    df['Total Charges'] = np.where(df['Total Charges'] == \" \", 0, df['Total Charges'])\n",
    "    df['Total Charges'] = df['Total Charges'].astype('float64')\n",
    "    \n",
    "    return df"
   ]
  },
  {
   "cell_type": "markdown",
   "id": "b5928d8d",
   "metadata": {},
   "source": [
    "### Eda Function"
   ]
  },
  {
   "cell_type": "code",
   "execution_count": 5,
   "id": "30516e94",
   "metadata": {},
   "outputs": [],
   "source": [
    "def kde_plot(df, feature):\n",
    "    plt.figure(figsize = (10, 8))\n",
    "    plt.title(f'KDE Plot of {feature}')\n",
    "    ax0 = sns.kdeplot(df[df['Churn Label'] == 'No'][feature], color = 'navy', legend = True, label = 'Churn: No')\n",
    "    ax1 = sns.kdeplot(df[df['Churn Label'] == 'Yes'][feature], color = 'orange', legend = True, label = 'Churn: Yes')\n",
    "    plt.legend()\n",
    "    plt.show()"
   ]
  },
  {
   "cell_type": "markdown",
   "id": "c09d3256",
   "metadata": {},
   "source": [
    "### Data Engineering Function"
   ]
  },
  {
   "cell_type": "markdown",
   "id": "94905510",
   "metadata": {},
   "source": [
    "#### Main Function"
   ]
  },
  {
   "cell_type": "code",
   "execution_count": 6,
   "id": "e8ece336",
   "metadata": {},
   "outputs": [],
   "source": [
    "def data_eng(df, onehot = False, onehot_cols = None, hashing = False, hash_cols = None, binary = False, binary_cols = None,\n",
    "             standardise_list = None, testing = False):\n",
    "    \n",
    "    \"\"\"\n",
    "    Function to perform feature engineering and data transformation\n",
    "    ----------------------------------------------------------------\n",
    "    df: dataframe\n",
    "    onehot: default = False, True to perform one-hot encoding\n",
    "    onehot_cols: default = None, columns to be one-hot encoded (list)\n",
    "    hashing: default = False, True to perform hash encoding\n",
    "    hash_cols: default = None, columns to be hash encoded (list)\n",
    "    binary: default = False, True to perform binary encoding\n",
    "    binary_cols: default = None, columns to be binary encoded (list)\n",
    "    standardise_list: default = None, columns to be standardised using StandardScaler\n",
    "    testing: default = False, True for testing dataset to be standardised\n",
    "    \"\"\"\n",
    "    \n",
    "    df_eng = df.copy()\n",
    "    \n",
    "    ## Creates a dictionary for mapping, then group different churn reasons together and assign to new column\n",
    "    \n",
    "    churn_dict = {}\n",
    "    \n",
    "    for key in ['Attitude of service provider', 'Attitude of support person', \n",
    "                'Poor expertise of online support', 'Poor expertise of phone support', \n",
    "                'Service dissatisfaction']:\n",
    "        churn_dict[key] = 'Customer Service'\n",
    "    \n",
    "    for key in ['Network reliability', 'Lack of affordable download/upload speed', \n",
    "                'Product dissatisfaction', 'Lack of self-service on Website',\n",
    "                'Limited range of services']:\n",
    "        churn_dict[key] = 'Product Service'\n",
    "        \n",
    "    for key in ['Extra data charges', 'Long distance charges', 'Price too high']:\n",
    "        churn_dict[key] = 'Price'\n",
    "        \n",
    "    for key in ['Competitor had better devices', 'Competitor made better offer', \n",
    "                'Competitor offered higher download speeds', 'Competitor offered more data']:\n",
    "        churn_dict[key] = 'Competitor'\n",
    "    \n",
    "    for key in ['Deceased', \"Don't know\", 'Moved']:\n",
    "        churn_dict[key] = 'Misc'\n",
    "        \n",
    "    churn_dict['Current Customer'] = 'Current Customer'\n",
    "        \n",
    "    df_eng['Churn Reason Grouped'] = df_eng['Churn Reason'].map(churn_dict)\n",
    "    \n",
    "    ##--------------------------------------------------------------------------------------------------------\n",
    "    \n",
    "    ## Combining 'No internet service' with 'No' in some of the variables\n",
    "    ## The information of 'No internet service' is already captured by the variable Internet Service\n",
    "    \n",
    "    internet_dict = {}\n",
    "    for key in ['No internet service', 'No']:\n",
    "        internet_dict[key] = 'No'\n",
    "        \n",
    "    internet_dict['Yes'] = 'Yes'\n",
    "    \n",
    "    combine_cols = ['Online Security', 'Online Backup', \n",
    "                    'Device Protection', 'Tech Support', \n",
    "                    'Streaming TV', 'Streaming Movies']\n",
    "    \n",
    "    temp_str = ''\n",
    "    \n",
    "    for cols in combine_cols:\n",
    "        temp_str = cols + ' Grouped'\n",
    "        df_eng[temp_str] = df_eng[cols].map(internet_dict)\n",
    "    \n",
    "    ##--------------------------------------------------------------------------------------------------------\n",
    "    \n",
    "    ## Binning\n",
    "    \n",
    "    df_eng['Monthly Charges Bin'] = pd.cut(df_eng['Monthly Charges'], \n",
    "                                           [0, 40, 70, 200],\n",
    "                                           labels = ['Low Charges', 'Medium Charges', 'High Charges'])\n",
    "    df_eng['Tenure Months Bin'] = pd.cut(df_eng['Tenure Months'], \n",
    "                                         [0, 24, 200],\n",
    "                                         labels = ['Recent Customers', 'Old Customers'],\n",
    "                                         include_lowest = True)\n",
    "    \n",
    "    ##--------------------------------------------------------------------------------------------------------\n",
    "    \n",
    "    ## Encoding\n",
    "    \n",
    "    if onehot:\n",
    "        \n",
    "        onehot_encoder = OneHotEncoder(sparse = False, drop = 'first')\n",
    "        onehot_encoded = onehot_encoder.fit_transform(df_eng[onehot_cols])\n",
    "        onehot_encoded = pd.DataFrame(onehot_encoded, index = df_eng.index)\n",
    "        onehot_encoded.columns = onehot_encoder.get_feature_names(onehot_cols)\n",
    "        \n",
    "        df_eng = df_eng.join(onehot_encoded)\n",
    "        \n",
    "    if hashing:\n",
    "        \n",
    "        hashing_encoder = ce.HashingEncoder(n_components = 8, return_df = False)\n",
    "        hashing_encoded = hashing_encoder.fit_transform(df_eng[hash_cols])\n",
    "        hashing_encoded = pd.DataFrame(hashing_encoded, index = df_eng.index)\n",
    "        hashing_encoded.columns = hashing_encoder.get_feature_names()\n",
    "        \n",
    "        df_eng = df_eng.join(hashing_encoded)\n",
    "        \n",
    "    if binary:\n",
    "        \n",
    "        binary_encoder = ce.BinaryEncoder(return_df = False, drop_invariant = True)\n",
    "        binary_encoded = binary_encoder.fit_transform(df_eng[binary_cols])\n",
    "        binary_encoded = pd.DataFrame(binary_encoded, index = df_eng.index)\n",
    "        binary_encoded.columns = binary_encoder.get_feature_names()\n",
    "        \n",
    "        df_eng = df_eng.join(binary_encoded)\n",
    "    \n",
    "    ##--------------------------------------------------------------------------------------------------------\n",
    "    \n",
    "    ## Standardisation\n",
    "    \n",
    "    if not standardise_list:\n",
    "        \n",
    "        return df_eng\n",
    "\n",
    "    elif testing == False:\n",
    "        \n",
    "        global scaler\n",
    "        scaler = StandardScaler()\n",
    "        df_eng[standardise_list] = scaler.fit_transform(df_eng[standardise_list])\n",
    "    \n",
    "    else:\n",
    "        \n",
    "        scale_mean = scaler.mean_\n",
    "        scale_std = scaler.scale_\n",
    "        \n",
    "        for i in range(len(standardise_list)):\n",
    "            \n",
    "            col = standardise_list[i]\n",
    "\n",
    "            df_eng[col] = df_eng[col].apply(lambda x: (x - scale_mean[i])/scale_std[i])\n",
    "    \n",
    "    return df_eng"
   ]
  },
  {
   "cell_type": "markdown",
   "id": "5cc25fbb",
   "metadata": {},
   "source": [
    "#### Oversampling Function"
   ]
  },
  {
   "cell_type": "code",
   "execution_count": 7,
   "id": "0dffe46c",
   "metadata": {},
   "outputs": [],
   "source": [
    "def oversamp(x, y, method = 'SMOTE', seed = 1):\n",
    "    \n",
    "    \"\"\" \n",
    "    Function to perform oversampling to address class imbalance issue\n",
    "    ------------------------------------------------------------------\n",
    "    x: feature matrix\n",
    "    y: response\n",
    "    method: 'ADASYN' or 'SMOTE' or 'SMOTEENN', default = 'SMOTE'\n",
    "    seed: int for random state, default = 1\n",
    "    \"\"\"\n",
    "    \n",
    "    if method == 'SMOTE':\n",
    "        \n",
    "        oversample = SMOTE(random_state = seed)\n",
    "        x_os, y_os = oversample.fit_resample(x, y)\n",
    "        \n",
    "    elif method == 'ADASYN':\n",
    "        \n",
    "        oversample = ADASYN(random_state = seed)\n",
    "        x_os, y_os = oversample.fit_resample(x, y)\n",
    "        \n",
    "    elif method == 'SMOTEENN':\n",
    "        \n",
    "        oversample = SMOTEENN(random_state = seed)\n",
    "        x_os, y_os = oversample.fit_resample(x, y)\n",
    "    \n",
    "    return x_os, y_os"
   ]
  },
  {
   "cell_type": "markdown",
   "id": "b15fd76e",
   "metadata": {},
   "source": [
    "### Metrics Functions"
   ]
  },
  {
   "cell_type": "markdown",
   "id": "9abafd11",
   "metadata": {},
   "source": [
    "#### Accuracy, Precision, Recall"
   ]
  },
  {
   "cell_type": "code",
   "execution_count": 8,
   "id": "57de348b",
   "metadata": {},
   "outputs": [],
   "source": [
    "def apr(y_pred, y_real):\n",
    "    \n",
    "    \"\"\"\n",
    "    Function to show evaluation metrics for models\n",
    "    -----------------------------------------------\n",
    "    Precision [TP/(TP + FP)]: how many predicted True values are actually true\n",
    "    Recall [TP/(TP + FN)]: how many actual True values can our model capture \n",
    "    F1 score {2*[(precision * recall)/(precision + recall)]}: balances precision and recall\n",
    "    \"\"\"\n",
    "    \n",
    "    accuracy = accuracy_score(y_real, y_pred)\n",
    "    precision = metrics.precision_score(y_real, y_pred)\n",
    "    recall = metrics.recall_score(y_real, y_pred)\n",
    "    f1 = metrics.f1_score(y_real, y_pred)\n",
    "    \n",
    "    print(f\"Accuracy: {accuracy}\")\n",
    "    print(f\"Precision: {precision}\")\n",
    "    print(f\"Recall: {recall}\")\n",
    "    print(f\"F1: {f1}\")\n",
    "    return accuracy, precision, recall"
   ]
  },
  {
   "cell_type": "markdown",
   "id": "5c9b64fc",
   "metadata": {},
   "source": [
    "#### Cross Validation Score"
   ]
  },
  {
   "cell_type": "code",
   "execution_count": 9,
   "id": "e191cb11",
   "metadata": {},
   "outputs": [],
   "source": [
    "def cv_score(model, x, y, n = 5):\n",
    "    \n",
    "    \"\"\"\n",
    "    Function to show cross validation score of the model\n",
    "    -----------------------------------------------------\n",
    "    n: number of folds, default = 5\n",
    "    \"\"\"\n",
    "    \n",
    "    scores = cross_val_score(model, x, y, cv = n)\n",
    "    average_score = np.mean(scores)\n",
    "    sd = np.std(scores)\n",
    "    \n",
    "    print(f'Accuracy of each cv: {scores}')\n",
    "    print(f'Average accuracy: {average_score}')\n",
    "    print(f'Standard deviation: {sd}')"
   ]
  },
  {
   "cell_type": "markdown",
   "id": "bff4190d",
   "metadata": {},
   "source": [
    "#### Confusion Matrix"
   ]
  },
  {
   "cell_type": "code",
   "execution_count": 10,
   "id": "be7f025a",
   "metadata": {},
   "outputs": [],
   "source": [
    "def produce_confusion(positive_label, negative_label, cut_off, y_pred, y_real):\n",
    "    \n",
    "    \"\"\"\n",
    "    Function to show confusion matrix and accuracy of the model\n",
    "    ------------------------------------------------------------\n",
    "    positive_label: label for positive outcome\n",
    "    negative_label: label for negative outcome\n",
    "    cut_off: cut off value, above which the outcome will be classified as positive\n",
    "    y_pred: predicted value of response variable\n",
    "    y_real: actual value of response variable\n",
    "    \"\"\"\n",
    "    \n",
    "    # Set pred to 0 or 1 depending on whether it's higher than the cut_off point.\n",
    "    pred_binary = np.where(y_pred > cut_off , 1, 0)\n",
    "    \n",
    "    # Build the CM\n",
    "    cm = confusion_matrix(y_real, pred_binary)  \n",
    "    \n",
    "    ax= plt.subplot()\n",
    "    sns.heatmap(cm, annot = True, ax = ax, fmt = 'g'); \n",
    "\n",
    "    # labels, title, ticks\n",
    "    ax.set_xlabel('Predicted labels');ax.set_ylabel('Real labels'); \n",
    "    ax.set_title('Confusion Matrix'); \n",
    "    ax.xaxis.set_ticklabels([negative_label, positive_label])\n",
    "    ax.yaxis.set_ticklabels([negative_label, positive_label]);\n",
    "\n",
    "    print('Test accuracy = ', accuracy_score(y_real, pred_binary))"
   ]
  },
  {
   "cell_type": "markdown",
   "id": "fc0a25c0",
   "metadata": {},
   "source": [
    "#### ROC Curve"
   ]
  },
  {
   "cell_type": "code",
   "execution_count": 11,
   "id": "1b68d464",
   "metadata": {},
   "outputs": [],
   "source": [
    "def produce_roc(y_pred, y_real):\n",
    "    \n",
    "    \"\"\"\n",
    "    Function to plot ROC curve and show AUC score\n",
    "    ----------------------------------------------\n",
    "    y_pred: predicted value of response variable\n",
    "    y_real: actual value of response variable\n",
    "    \"\"\"\n",
    "    \n",
    "    logit_roc_auc = roc_auc_score(y_real, y_pred)\n",
    "    fpr, tpr, thresholds = roc_curve(y_real, y_pred)\n",
    "    plt.figure()\n",
    "    plt.plot(fpr, tpr, label = 'Logistic Regression (area = %0.2f)' % logit_roc_auc)\n",
    "    plt.plot([0, 1], [0, 1], 'r--')\n",
    "    plt.xlabel('False Positive Rate')\n",
    "    plt.ylabel('True Positive Rate')\n",
    "    plt.title('Receiver operating characteristic')\n",
    "    plt.legend(loc = \"lower right\")\n",
    "    plt.show()\n",
    "    \n",
    "    print(f'AUC = {metrics.auc(fpr, tpr)}')"
   ]
  },
  {
   "cell_type": "markdown",
   "id": "7a92b416",
   "metadata": {},
   "source": [
    "## Reading in Data"
   ]
  },
  {
   "cell_type": "code",
   "execution_count": 12,
   "id": "049d2521",
   "metadata": {},
   "outputs": [],
   "source": [
    "churn_full = pd.read_excel('OneDrive\\Desktop\\Digital_Futures\\Digital_Futures_Group_Project_3\\customer_churn.xlsx')"
   ]
  },
  {
   "cell_type": "markdown",
   "id": "3ce706ad",
   "metadata": {},
   "source": [
    "## Data Cleaning"
   ]
  },
  {
   "cell_type": "code",
   "execution_count": 13,
   "id": "4b4646d9",
   "metadata": {},
   "outputs": [],
   "source": [
    "churn_full_cleaned = data_clean(churn_full)"
   ]
  },
  {
   "cell_type": "markdown",
   "id": "b6b58d6b",
   "metadata": {},
   "source": [
    "## Train Test Split"
   ]
  },
  {
   "cell_type": "code",
   "execution_count": 14,
   "id": "ad623f62",
   "metadata": {},
   "outputs": [],
   "source": [
    "columns = list(churn_full_cleaned.columns)\n",
    "columns.remove('Churn Value')\n",
    "\n",
    "X = churn_full_cleaned[columns]\n",
    "y = churn_full_cleaned['Churn Value']"
   ]
  },
  {
   "cell_type": "code",
   "execution_count": 15,
   "id": "56026918",
   "metadata": {},
   "outputs": [],
   "source": [
    "## Splitting data into 0.75 training set and 0.25 testing set\n",
    "X_train, X_test, y_train, y_test = train_test_split(X, y, test_size = 0.25, random_state = 123)"
   ]
  },
  {
   "cell_type": "markdown",
   "id": "f60ac869",
   "metadata": {},
   "source": [
    "## Feature Engineering and Data Transformation"
   ]
  },
  {
   "cell_type": "code",
   "execution_count": 16,
   "id": "40c3a9f7",
   "metadata": {},
   "outputs": [],
   "source": [
    "onehot_list = ['Gender', 'Senior Citizen', 'Partner', \n",
    "               'Dependents', 'Phone Service', 'Multiple Lines', \n",
    "               'Internet Service', 'Online Security', 'Online Backup', \n",
    "               'Device Protection', 'Tech Support', 'Streaming TV',\n",
    "               'Streaming Movies', 'Contract', 'Paperless Billing', \n",
    "               'Payment Method', 'Online Security Grouped',\n",
    "               'Online Backup Grouped', 'Device Protection Grouped',\n",
    "               'Tech Support Grouped', 'Streaming TV Grouped',\n",
    "               'Streaming Movies Grouped', 'Monthly Charges Bin',\n",
    "               'Tenure Months Bin']"
   ]
  },
  {
   "cell_type": "code",
   "execution_count": 17,
   "id": "fc06576d",
   "metadata": {},
   "outputs": [],
   "source": [
    "scale_list = ['Tenure Months', 'Monthly Charges', 'Total Charges']"
   ]
  },
  {
   "cell_type": "markdown",
   "id": "f26be3f9",
   "metadata": {},
   "source": [
    "### Training Set"
   ]
  },
  {
   "cell_type": "code",
   "execution_count": 18,
   "id": "96139594",
   "metadata": {},
   "outputs": [],
   "source": [
    "X_train_eng = data_eng(X_train, onehot = True, onehot_cols = onehot_list,\n",
    "                       standardise_list = scale_list, testing = False)"
   ]
  },
  {
   "cell_type": "code",
   "execution_count": 19,
   "id": "49571dbc",
   "metadata": {},
   "outputs": [
    {
     "data": {
      "text/html": [
       "<div>\n",
       "<style scoped>\n",
       "    .dataframe tbody tr th:only-of-type {\n",
       "        vertical-align: middle;\n",
       "    }\n",
       "\n",
       "    .dataframe tbody tr th {\n",
       "        vertical-align: top;\n",
       "    }\n",
       "\n",
       "    .dataframe thead th {\n",
       "        text-align: right;\n",
       "    }\n",
       "</style>\n",
       "<table border=\"1\" class=\"dataframe\">\n",
       "  <thead>\n",
       "    <tr style=\"text-align: right;\">\n",
       "      <th></th>\n",
       "      <th>CustomerID</th>\n",
       "      <th>Count</th>\n",
       "      <th>Country</th>\n",
       "      <th>State</th>\n",
       "      <th>City</th>\n",
       "      <th>Zip Code</th>\n",
       "      <th>Lat Long</th>\n",
       "      <th>Latitude</th>\n",
       "      <th>Longitude</th>\n",
       "      <th>Gender</th>\n",
       "      <th>...</th>\n",
       "      <th>Payment Method_Mailed check</th>\n",
       "      <th>Online Security Grouped_Yes</th>\n",
       "      <th>Online Backup Grouped_Yes</th>\n",
       "      <th>Device Protection Grouped_Yes</th>\n",
       "      <th>Tech Support Grouped_Yes</th>\n",
       "      <th>Streaming TV Grouped_Yes</th>\n",
       "      <th>Streaming Movies Grouped_Yes</th>\n",
       "      <th>Monthly Charges Bin_Low Charges</th>\n",
       "      <th>Monthly Charges Bin_Medium Charges</th>\n",
       "      <th>Tenure Months Bin_Recent Customers</th>\n",
       "    </tr>\n",
       "  </thead>\n",
       "  <tbody>\n",
       "    <tr>\n",
       "      <th>6464</th>\n",
       "      <td>6549-BTYPG</td>\n",
       "      <td>1</td>\n",
       "      <td>United States</td>\n",
       "      <td>California</td>\n",
       "      <td>Sebastopol</td>\n",
       "      <td>95472</td>\n",
       "      <td>38.398815, -122.861923</td>\n",
       "      <td>38.398815</td>\n",
       "      <td>-122.861923</td>\n",
       "      <td>Female</td>\n",
       "      <td>...</td>\n",
       "      <td>0.0</td>\n",
       "      <td>0.0</td>\n",
       "      <td>1.0</td>\n",
       "      <td>1.0</td>\n",
       "      <td>1.0</td>\n",
       "      <td>1.0</td>\n",
       "      <td>1.0</td>\n",
       "      <td>0.0</td>\n",
       "      <td>1.0</td>\n",
       "      <td>0.0</td>\n",
       "    </tr>\n",
       "    <tr>\n",
       "      <th>5707</th>\n",
       "      <td>6050-IJRHS</td>\n",
       "      <td>1</td>\n",
       "      <td>United States</td>\n",
       "      <td>California</td>\n",
       "      <td>Chino Hills</td>\n",
       "      <td>91709</td>\n",
       "      <td>33.942895, -117.725644</td>\n",
       "      <td>33.942895</td>\n",
       "      <td>-117.725644</td>\n",
       "      <td>Female</td>\n",
       "      <td>...</td>\n",
       "      <td>0.0</td>\n",
       "      <td>0.0</td>\n",
       "      <td>1.0</td>\n",
       "      <td>1.0</td>\n",
       "      <td>0.0</td>\n",
       "      <td>1.0</td>\n",
       "      <td>1.0</td>\n",
       "      <td>0.0</td>\n",
       "      <td>0.0</td>\n",
       "      <td>0.0</td>\n",
       "    </tr>\n",
       "    <tr>\n",
       "      <th>3442</th>\n",
       "      <td>4223-BKEOR</td>\n",
       "      <td>1</td>\n",
       "      <td>United States</td>\n",
       "      <td>California</td>\n",
       "      <td>San Bernardino</td>\n",
       "      <td>92411</td>\n",
       "      <td>34.122501, -117.320138</td>\n",
       "      <td>34.122501</td>\n",
       "      <td>-117.320138</td>\n",
       "      <td>Female</td>\n",
       "      <td>...</td>\n",
       "      <td>1.0</td>\n",
       "      <td>1.0</td>\n",
       "      <td>0.0</td>\n",
       "      <td>1.0</td>\n",
       "      <td>0.0</td>\n",
       "      <td>0.0</td>\n",
       "      <td>1.0</td>\n",
       "      <td>0.0</td>\n",
       "      <td>1.0</td>\n",
       "      <td>1.0</td>\n",
       "    </tr>\n",
       "    <tr>\n",
       "      <th>3932</th>\n",
       "      <td>3904-UKFRE</td>\n",
       "      <td>1</td>\n",
       "      <td>United States</td>\n",
       "      <td>California</td>\n",
       "      <td>Stockton</td>\n",
       "      <td>95205</td>\n",
       "      <td>37.965695, -121.260051</td>\n",
       "      <td>37.965695</td>\n",
       "      <td>-121.260051</td>\n",
       "      <td>Male</td>\n",
       "      <td>...</td>\n",
       "      <td>0.0</td>\n",
       "      <td>1.0</td>\n",
       "      <td>0.0</td>\n",
       "      <td>0.0</td>\n",
       "      <td>0.0</td>\n",
       "      <td>0.0</td>\n",
       "      <td>0.0</td>\n",
       "      <td>0.0</td>\n",
       "      <td>0.0</td>\n",
       "      <td>1.0</td>\n",
       "    </tr>\n",
       "    <tr>\n",
       "      <th>6124</th>\n",
       "      <td>1722-LDZJS</td>\n",
       "      <td>1</td>\n",
       "      <td>United States</td>\n",
       "      <td>California</td>\n",
       "      <td>Sanger</td>\n",
       "      <td>93657</td>\n",
       "      <td>36.819628, -119.440414</td>\n",
       "      <td>36.819628</td>\n",
       "      <td>-119.440414</td>\n",
       "      <td>Male</td>\n",
       "      <td>...</td>\n",
       "      <td>0.0</td>\n",
       "      <td>0.0</td>\n",
       "      <td>0.0</td>\n",
       "      <td>0.0</td>\n",
       "      <td>0.0</td>\n",
       "      <td>0.0</td>\n",
       "      <td>0.0</td>\n",
       "      <td>1.0</td>\n",
       "      <td>0.0</td>\n",
       "      <td>0.0</td>\n",
       "    </tr>\n",
       "  </tbody>\n",
       "</table>\n",
       "<p>5 rows × 75 columns</p>\n",
       "</div>"
      ],
      "text/plain": [
       "      CustomerID  Count        Country       State            City  Zip Code  \\\n",
       "6464  6549-BTYPG      1  United States  California      Sebastopol     95472   \n",
       "5707  6050-IJRHS      1  United States  California     Chino Hills     91709   \n",
       "3442  4223-BKEOR      1  United States  California  San Bernardino     92411   \n",
       "3932  3904-UKFRE      1  United States  California        Stockton     95205   \n",
       "6124  1722-LDZJS      1  United States  California          Sanger     93657   \n",
       "\n",
       "                    Lat Long   Latitude   Longitude  Gender  ...  \\\n",
       "6464  38.398815, -122.861923  38.398815 -122.861923  Female  ...   \n",
       "5707  33.942895, -117.725644  33.942895 -117.725644  Female  ...   \n",
       "3442  34.122501, -117.320138  34.122501 -117.320138  Female  ...   \n",
       "3932  37.965695, -121.260051  37.965695 -121.260051    Male  ...   \n",
       "6124  36.819628, -119.440414  36.819628 -119.440414    Male  ...   \n",
       "\n",
       "     Payment Method_Mailed check Online Security Grouped_Yes  \\\n",
       "6464                         0.0                         0.0   \n",
       "5707                         0.0                         0.0   \n",
       "3442                         1.0                         1.0   \n",
       "3932                         0.0                         1.0   \n",
       "6124                         0.0                         0.0   \n",
       "\n",
       "     Online Backup Grouped_Yes  Device Protection Grouped_Yes  \\\n",
       "6464                       1.0                            1.0   \n",
       "5707                       1.0                            1.0   \n",
       "3442                       0.0                            1.0   \n",
       "3932                       0.0                            0.0   \n",
       "6124                       0.0                            0.0   \n",
       "\n",
       "     Tech Support Grouped_Yes Streaming TV Grouped_Yes  \\\n",
       "6464                      1.0                      1.0   \n",
       "5707                      0.0                      1.0   \n",
       "3442                      0.0                      0.0   \n",
       "3932                      0.0                      0.0   \n",
       "6124                      0.0                      0.0   \n",
       "\n",
       "     Streaming Movies Grouped_Yes Monthly Charges Bin_Low Charges  \\\n",
       "6464                          1.0                             0.0   \n",
       "5707                          1.0                             0.0   \n",
       "3442                          1.0                             0.0   \n",
       "3932                          0.0                             0.0   \n",
       "6124                          0.0                             1.0   \n",
       "\n",
       "     Monthly Charges Bin_Medium Charges Tenure Months Bin_Recent Customers  \n",
       "6464                                1.0                                0.0  \n",
       "5707                                0.0                                0.0  \n",
       "3442                                1.0                                1.0  \n",
       "3932                                0.0                                1.0  \n",
       "6124                                0.0                                0.0  \n",
       "\n",
       "[5 rows x 75 columns]"
      ]
     },
     "execution_count": 19,
     "metadata": {},
     "output_type": "execute_result"
    }
   ],
   "source": [
    "X_train_eng.head()"
   ]
  },
  {
   "cell_type": "code",
   "execution_count": 20,
   "id": "efd0ebb5",
   "metadata": {},
   "outputs": [
    {
     "data": {
      "text/plain": [
       "array([  32.36160545,   64.62659031, 2272.85525369])"
      ]
     },
     "execution_count": 20,
     "metadata": {},
     "output_type": "execute_result"
    }
   ],
   "source": [
    "scaler.mean_"
   ]
  },
  {
   "cell_type": "markdown",
   "id": "dd5d63f7",
   "metadata": {},
   "source": [
    "#### Oversampling"
   ]
  },
  {
   "cell_type": "code",
   "execution_count": 21,
   "id": "d5b2e4aa",
   "metadata": {},
   "outputs": [],
   "source": [
    "X_train_eng_os = X_train_eng.copy()\n",
    "y_train_os = y_train.copy()"
   ]
  },
  {
   "cell_type": "code",
   "execution_count": 22,
   "id": "fb5b72c0",
   "metadata": {},
   "outputs": [],
   "source": [
    "X_train_eng_os.drop(['CustomerID', 'Count', 'Country', \n",
    "                     'State', 'City', 'Zip Code', 'Lat Long',\n",
    "                     'Latitude', 'Longitude', 'Gender',\n",
    "                     'Senior Citizen', 'Partner', 'Dependents',\n",
    "                     'Phone Service', 'Multiple Lines', 'Internet Service', 'Online Security',\n",
    "                     'Online Backup', 'Device Protection', 'Tech Support', 'Streaming TV',\n",
    "                     'Streaming Movies', 'Contract', 'Paperless Billing', 'Payment Method',\n",
    "                     'Churn Label', 'Churn Reason', 'Churn Reason Grouped',\n",
    "                     'Online Security Grouped', 'Online Backup Grouped',\n",
    "                     'Device Protection Grouped', 'Tech Support Grouped',\n",
    "                     'Streaming TV Grouped', 'Streaming Movies Grouped',\n",
    "                     'Monthly Charges Bin', 'Tenure Months Bin'], axis = 1, inplace = True)"
   ]
  },
  {
   "cell_type": "code",
   "execution_count": 23,
   "id": "1d2d0758",
   "metadata": {},
   "outputs": [],
   "source": [
    "X_train_eng_os, y_train_os = oversamp(X_train_eng_os, y_train_os, method = 'SMOTE', seed = 1)"
   ]
  },
  {
   "cell_type": "code",
   "execution_count": 24,
   "id": "2cfc9395",
   "metadata": {},
   "outputs": [
    {
     "data": {
      "text/plain": [
       "0    3879\n",
       "1    3879\n",
       "Name: Churn Value, dtype: int64"
      ]
     },
     "execution_count": 24,
     "metadata": {},
     "output_type": "execute_result"
    }
   ],
   "source": [
    "y_train_os.value_counts()"
   ]
  },
  {
   "cell_type": "markdown",
   "id": "48f305c0",
   "metadata": {},
   "source": [
    "### Testing Set"
   ]
  },
  {
   "cell_type": "code",
   "execution_count": 25,
   "id": "bbb7324f",
   "metadata": {},
   "outputs": [],
   "source": [
    "X_test_eng = data_eng(X_test, onehot = True, onehot_cols = onehot_list,\n",
    "                      standardise_list = scale_list, testing = True)"
   ]
  },
  {
   "cell_type": "code",
   "execution_count": 26,
   "id": "4e40a46a",
   "metadata": {},
   "outputs": [
    {
     "data": {
      "text/html": [
       "<div>\n",
       "<style scoped>\n",
       "    .dataframe tbody tr th:only-of-type {\n",
       "        vertical-align: middle;\n",
       "    }\n",
       "\n",
       "    .dataframe tbody tr th {\n",
       "        vertical-align: top;\n",
       "    }\n",
       "\n",
       "    .dataframe thead th {\n",
       "        text-align: right;\n",
       "    }\n",
       "</style>\n",
       "<table border=\"1\" class=\"dataframe\">\n",
       "  <thead>\n",
       "    <tr style=\"text-align: right;\">\n",
       "      <th></th>\n",
       "      <th>CustomerID</th>\n",
       "      <th>Count</th>\n",
       "      <th>Country</th>\n",
       "      <th>State</th>\n",
       "      <th>City</th>\n",
       "      <th>Zip Code</th>\n",
       "      <th>Lat Long</th>\n",
       "      <th>Latitude</th>\n",
       "      <th>Longitude</th>\n",
       "      <th>Gender</th>\n",
       "      <th>...</th>\n",
       "      <th>Payment Method_Mailed check</th>\n",
       "      <th>Online Security Grouped_Yes</th>\n",
       "      <th>Online Backup Grouped_Yes</th>\n",
       "      <th>Device Protection Grouped_Yes</th>\n",
       "      <th>Tech Support Grouped_Yes</th>\n",
       "      <th>Streaming TV Grouped_Yes</th>\n",
       "      <th>Streaming Movies Grouped_Yes</th>\n",
       "      <th>Monthly Charges Bin_Low Charges</th>\n",
       "      <th>Monthly Charges Bin_Medium Charges</th>\n",
       "      <th>Tenure Months Bin_Recent Customers</th>\n",
       "    </tr>\n",
       "  </thead>\n",
       "  <tbody>\n",
       "    <tr>\n",
       "      <th>941</th>\n",
       "      <td>3656-TKRVZ</td>\n",
       "      <td>1</td>\n",
       "      <td>United States</td>\n",
       "      <td>California</td>\n",
       "      <td>Chula Vista</td>\n",
       "      <td>91910</td>\n",
       "      <td>32.636792, -117.054989</td>\n",
       "      <td>32.636792</td>\n",
       "      <td>-117.054989</td>\n",
       "      <td>Female</td>\n",
       "      <td>...</td>\n",
       "      <td>0.0</td>\n",
       "      <td>1.0</td>\n",
       "      <td>1.0</td>\n",
       "      <td>0.0</td>\n",
       "      <td>0.0</td>\n",
       "      <td>0.0</td>\n",
       "      <td>0.0</td>\n",
       "      <td>0.0</td>\n",
       "      <td>1.0</td>\n",
       "      <td>1.0</td>\n",
       "    </tr>\n",
       "    <tr>\n",
       "      <th>1404</th>\n",
       "      <td>4919-IKATY</td>\n",
       "      <td>1</td>\n",
       "      <td>United States</td>\n",
       "      <td>California</td>\n",
       "      <td>Joshua Tree</td>\n",
       "      <td>92252</td>\n",
       "      <td>34.167236, -116.281511</td>\n",
       "      <td>34.167236</td>\n",
       "      <td>-116.281511</td>\n",
       "      <td>Male</td>\n",
       "      <td>...</td>\n",
       "      <td>0.0</td>\n",
       "      <td>1.0</td>\n",
       "      <td>0.0</td>\n",
       "      <td>1.0</td>\n",
       "      <td>0.0</td>\n",
       "      <td>0.0</td>\n",
       "      <td>0.0</td>\n",
       "      <td>0.0</td>\n",
       "      <td>0.0</td>\n",
       "      <td>1.0</td>\n",
       "    </tr>\n",
       "    <tr>\n",
       "      <th>5515</th>\n",
       "      <td>4584-LBNMK</td>\n",
       "      <td>1</td>\n",
       "      <td>United States</td>\n",
       "      <td>California</td>\n",
       "      <td>Portola</td>\n",
       "      <td>96122</td>\n",
       "      <td>39.786755, -120.445626</td>\n",
       "      <td>39.786755</td>\n",
       "      <td>-120.445626</td>\n",
       "      <td>Male</td>\n",
       "      <td>...</td>\n",
       "      <td>0.0</td>\n",
       "      <td>0.0</td>\n",
       "      <td>0.0</td>\n",
       "      <td>0.0</td>\n",
       "      <td>0.0</td>\n",
       "      <td>0.0</td>\n",
       "      <td>0.0</td>\n",
       "      <td>1.0</td>\n",
       "      <td>0.0</td>\n",
       "      <td>0.0</td>\n",
       "    </tr>\n",
       "    <tr>\n",
       "      <th>3684</th>\n",
       "      <td>5968-HYJRZ</td>\n",
       "      <td>1</td>\n",
       "      <td>United States</td>\n",
       "      <td>California</td>\n",
       "      <td>Kerman</td>\n",
       "      <td>93630</td>\n",
       "      <td>36.727418, -120.123526</td>\n",
       "      <td>36.727418</td>\n",
       "      <td>-120.123526</td>\n",
       "      <td>Male</td>\n",
       "      <td>...</td>\n",
       "      <td>1.0</td>\n",
       "      <td>0.0</td>\n",
       "      <td>0.0</td>\n",
       "      <td>0.0</td>\n",
       "      <td>0.0</td>\n",
       "      <td>0.0</td>\n",
       "      <td>0.0</td>\n",
       "      <td>1.0</td>\n",
       "      <td>0.0</td>\n",
       "      <td>0.0</td>\n",
       "    </tr>\n",
       "    <tr>\n",
       "      <th>7017</th>\n",
       "      <td>2274-XUATA</td>\n",
       "      <td>1</td>\n",
       "      <td>United States</td>\n",
       "      <td>California</td>\n",
       "      <td>Earp</td>\n",
       "      <td>92242</td>\n",
       "      <td>34.137742, -114.36514</td>\n",
       "      <td>34.137742</td>\n",
       "      <td>-114.365140</td>\n",
       "      <td>Male</td>\n",
       "      <td>...</td>\n",
       "      <td>0.0</td>\n",
       "      <td>1.0</td>\n",
       "      <td>1.0</td>\n",
       "      <td>1.0</td>\n",
       "      <td>1.0</td>\n",
       "      <td>1.0</td>\n",
       "      <td>1.0</td>\n",
       "      <td>0.0</td>\n",
       "      <td>1.0</td>\n",
       "      <td>0.0</td>\n",
       "    </tr>\n",
       "  </tbody>\n",
       "</table>\n",
       "<p>5 rows × 75 columns</p>\n",
       "</div>"
      ],
      "text/plain": [
       "      CustomerID  Count        Country       State         City  Zip Code  \\\n",
       "941   3656-TKRVZ      1  United States  California  Chula Vista     91910   \n",
       "1404  4919-IKATY      1  United States  California  Joshua Tree     92252   \n",
       "5515  4584-LBNMK      1  United States  California      Portola     96122   \n",
       "3684  5968-HYJRZ      1  United States  California       Kerman     93630   \n",
       "7017  2274-XUATA      1  United States  California         Earp     92242   \n",
       "\n",
       "                    Lat Long   Latitude   Longitude  Gender  ...  \\\n",
       "941   32.636792, -117.054989  32.636792 -117.054989  Female  ...   \n",
       "1404  34.167236, -116.281511  34.167236 -116.281511    Male  ...   \n",
       "5515  39.786755, -120.445626  39.786755 -120.445626    Male  ...   \n",
       "3684  36.727418, -120.123526  36.727418 -120.123526    Male  ...   \n",
       "7017   34.137742, -114.36514  34.137742 -114.365140    Male  ...   \n",
       "\n",
       "     Payment Method_Mailed check Online Security Grouped_Yes  \\\n",
       "941                          0.0                         1.0   \n",
       "1404                         0.0                         1.0   \n",
       "5515                         0.0                         0.0   \n",
       "3684                         1.0                         0.0   \n",
       "7017                         0.0                         1.0   \n",
       "\n",
       "     Online Backup Grouped_Yes  Device Protection Grouped_Yes  \\\n",
       "941                        1.0                            0.0   \n",
       "1404                       0.0                            1.0   \n",
       "5515                       0.0                            0.0   \n",
       "3684                       0.0                            0.0   \n",
       "7017                       1.0                            1.0   \n",
       "\n",
       "     Tech Support Grouped_Yes Streaming TV Grouped_Yes  \\\n",
       "941                       0.0                      0.0   \n",
       "1404                      0.0                      0.0   \n",
       "5515                      0.0                      0.0   \n",
       "3684                      0.0                      0.0   \n",
       "7017                      1.0                      1.0   \n",
       "\n",
       "     Streaming Movies Grouped_Yes Monthly Charges Bin_Low Charges  \\\n",
       "941                           0.0                             0.0   \n",
       "1404                          0.0                             0.0   \n",
       "5515                          0.0                             1.0   \n",
       "3684                          0.0                             1.0   \n",
       "7017                          1.0                             0.0   \n",
       "\n",
       "     Monthly Charges Bin_Medium Charges Tenure Months Bin_Recent Customers  \n",
       "941                                 1.0                                1.0  \n",
       "1404                                0.0                                1.0  \n",
       "5515                                0.0                                0.0  \n",
       "3684                                0.0                                0.0  \n",
       "7017                                1.0                                0.0  \n",
       "\n",
       "[5 rows x 75 columns]"
      ]
     },
     "execution_count": 26,
     "metadata": {},
     "output_type": "execute_result"
    }
   ],
   "source": [
    "X_test_eng.head()"
   ]
  },
  {
   "cell_type": "markdown",
   "id": "c21fddf4",
   "metadata": {},
   "source": [
    "## Benchmark"
   ]
  },
  {
   "cell_type": "code",
   "execution_count": 27,
   "id": "be989a1c",
   "metadata": {},
   "outputs": [],
   "source": [
    "worse_model = [0] * len(y_test)"
   ]
  },
  {
   "cell_type": "code",
   "execution_count": 28,
   "id": "2ff33f17",
   "metadata": {},
   "outputs": [
    {
     "name": "stdout",
     "output_type": "stream",
     "text": [
      "              precision    recall  f1-score   support\n",
      "\n",
      "           0       0.74      1.00      0.85      1295\n",
      "           1       0.00      0.00      0.00       466\n",
      "\n",
      "    accuracy                           0.74      1761\n",
      "   macro avg       0.37      0.50      0.42      1761\n",
      "weighted avg       0.54      0.74      0.62      1761\n",
      "\n"
     ]
    },
    {
     "name": "stderr",
     "output_type": "stream",
     "text": [
      "C:\\Users\\brian\\Anaconda3\\lib\\site-packages\\sklearn\\metrics\\_classification.py:1248: UndefinedMetricWarning: Precision and F-score are ill-defined and being set to 0.0 in labels with no predicted samples. Use `zero_division` parameter to control this behavior.\n",
      "  _warn_prf(average, modifier, msg_start, len(result))\n",
      "C:\\Users\\brian\\Anaconda3\\lib\\site-packages\\sklearn\\metrics\\_classification.py:1248: UndefinedMetricWarning: Precision and F-score are ill-defined and being set to 0.0 in labels with no predicted samples. Use `zero_division` parameter to control this behavior.\n",
      "  _warn_prf(average, modifier, msg_start, len(result))\n",
      "C:\\Users\\brian\\Anaconda3\\lib\\site-packages\\sklearn\\metrics\\_classification.py:1248: UndefinedMetricWarning: Precision and F-score are ill-defined and being set to 0.0 in labels with no predicted samples. Use `zero_division` parameter to control this behavior.\n",
      "  _warn_prf(average, modifier, msg_start, len(result))\n"
     ]
    }
   ],
   "source": [
    "print(classification_report(y_test, worse_model))"
   ]
  },
  {
   "cell_type": "markdown",
   "id": "6e938c3e",
   "metadata": {},
   "source": [
    "## Logistic Regression"
   ]
  },
  {
   "cell_type": "markdown",
   "id": "acc5fc02",
   "metadata": {},
   "source": [
    "### Model Training"
   ]
  },
  {
   "cell_type": "code",
   "execution_count": 29,
   "id": "16e9369c",
   "metadata": {},
   "outputs": [
    {
     "data": {
      "text/plain": [
       "Index(['CustomerID', 'Count', 'Country', 'State', 'City', 'Zip Code',\n",
       "       'Lat Long', 'Latitude', 'Longitude', 'Gender', 'Senior Citizen',\n",
       "       'Partner', 'Dependents', 'Tenure Months', 'Phone Service',\n",
       "       'Multiple Lines', 'Internet Service', 'Online Security',\n",
       "       'Online Backup', 'Device Protection', 'Tech Support', 'Streaming TV',\n",
       "       'Streaming Movies', 'Contract', 'Paperless Billing', 'Payment Method',\n",
       "       'Monthly Charges', 'Total Charges', 'Churn Label', 'Churn Reason',\n",
       "       'Churn Reason Grouped', 'Online Security Grouped',\n",
       "       'Online Backup Grouped', 'Device Protection Grouped',\n",
       "       'Tech Support Grouped', 'Streaming TV Grouped',\n",
       "       'Streaming Movies Grouped', 'Monthly Charges Bin', 'Tenure Months Bin',\n",
       "       'Gender_Male', 'Senior Citizen_Yes', 'Partner_Yes', 'Dependents_Yes',\n",
       "       'Phone Service_Yes', 'Multiple Lines_No phone service',\n",
       "       'Multiple Lines_Yes', 'Internet Service_Fiber optic',\n",
       "       'Internet Service_No', 'Online Security_No internet service',\n",
       "       'Online Security_Yes', 'Online Backup_No internet service',\n",
       "       'Online Backup_Yes', 'Device Protection_No internet service',\n",
       "       'Device Protection_Yes', 'Tech Support_No internet service',\n",
       "       'Tech Support_Yes', 'Streaming TV_No internet service',\n",
       "       'Streaming TV_Yes', 'Streaming Movies_No internet service',\n",
       "       'Streaming Movies_Yes', 'Contract_One year', 'Contract_Two year',\n",
       "       'Paperless Billing_Yes', 'Payment Method_Credit card (automatic)',\n",
       "       'Payment Method_Electronic check', 'Payment Method_Mailed check',\n",
       "       'Online Security Grouped_Yes', 'Online Backup Grouped_Yes',\n",
       "       'Device Protection Grouped_Yes', 'Tech Support Grouped_Yes',\n",
       "       'Streaming TV Grouped_Yes', 'Streaming Movies Grouped_Yes',\n",
       "       'Monthly Charges Bin_Low Charges', 'Monthly Charges Bin_Medium Charges',\n",
       "       'Tenure Months Bin_Recent Customers'],\n",
       "      dtype='object')"
      ]
     },
     "execution_count": 29,
     "metadata": {},
     "output_type": "execute_result"
    }
   ],
   "source": [
    "X_train_eng.columns"
   ]
  },
  {
   "cell_type": "code",
   "execution_count": 30,
   "id": "fd729ac6",
   "metadata": {},
   "outputs": [],
   "source": [
    "## Feature Columns to be modelled\n",
    "\n",
    "features = ['Tenure Months', \n",
    "            #'Monthly Charges', \n",
    "            #'Total Charges',  \n",
    "            #'Gender_Male', \n",
    "            #'Senior Citizen_Yes', \n",
    "            'Partner_Yes', \n",
    "            'Dependents_Yes', \n",
    "            #'Phone Service_Yes',\n",
    "            #'Multiple Lines_No phone service', 'Multiple Lines_Yes',\n",
    "            'Internet Service_Fiber optic', 'Internet Service_No',\n",
    "            #'Online Security_No internet service', 'Online Security_Yes',\n",
    "            #'Online Backup_No internet service', 'Online Backup_Yes',\n",
    "            #'Device Protection_No internet service', 'Device Protection_Yes',\n",
    "            #'Tech Support_No internet service', 'Tech Support_Yes',\n",
    "            #'Streaming TV_No internet service', 'Streaming TV_Yes',\n",
    "            #'Streaming Movies_No internet service', 'Streaming Movies_Yes',\n",
    "            'Contract_One year', 'Contract_Two year', \n",
    "            'Paperless Billing_Yes',\n",
    "            #'Payment Method_Credit card (automatic)', 'Payment Method_Electronic check', 'Payment Method_Mailed check',\n",
    "            'Online Security Grouped_Yes', \n",
    "            #'Online Backup Grouped_Yes',\n",
    "            #'Device Protection Grouped_Yes', \n",
    "            'Tech Support Grouped_Yes',\n",
    "            'Streaming TV Grouped_Yes', \n",
    "            'Streaming Movies Grouped_Yes',\n",
    "            #'Monthly Charges Bin_Low Charges', 'Monthly Charges Bin_Medium Charges',\n",
    "            #'Tenure Months Bin_Recent Customers'\n",
    "            ]"
   ]
  },
  {
   "cell_type": "code",
   "execution_count": 31,
   "id": "6dbf71f8",
   "metadata": {},
   "outputs": [
    {
     "name": "stdout",
     "output_type": "stream",
     "text": [
      "Optimization terminated successfully.\n",
      "         Current function value: 0.402555\n",
      "         Iterations 8\n",
      "                           Logit Regression Results                           \n",
      "==============================================================================\n",
      "Dep. Variable:            Churn Value   No. Observations:                 5282\n",
      "Model:                          Logit   Df Residuals:                     5269\n",
      "Method:                           MLE   Df Model:                           12\n",
      "Date:                Tue, 25 May 2021   Pseudo R-squ.:                  0.3046\n",
      "Time:                        16:34:44   Log-Likelihood:                -2126.3\n",
      "converged:                       True   LL-Null:                       -3057.5\n",
      "Covariance Type:            nonrobust   LLR p-value:                     0.000\n",
      "================================================================================================\n",
      "                                   coef    std err          z      P>|z|      [0.025      0.975]\n",
      "------------------------------------------------------------------------------------------------\n",
      "const                           -1.2971      0.121    -10.686      0.000      -1.535      -1.059\n",
      "Tenure Months                   -0.8116      0.062    -13.194      0.000      -0.932      -0.691\n",
      "Partner_Yes                      0.1853      0.087      2.124      0.034       0.014       0.356\n",
      "Dependents_Yes                  -1.5257      0.136    -11.186      0.000      -1.793      -1.258\n",
      "Internet Service_Fiber optic     0.8407      0.091      9.251      0.000       0.663       1.019\n",
      "Internet Service_No             -1.1450      0.152     -7.531      0.000      -1.443      -0.847\n",
      "Contract_One year               -0.7541      0.123     -6.134      0.000      -0.995      -0.513\n",
      "Contract_Two year               -1.4219      0.206     -6.896      0.000      -1.826      -1.018\n",
      "Paperless Billing_Yes            0.3548      0.086      4.108      0.000       0.186       0.524\n",
      "Online Security Grouped_Yes     -0.4130      0.099     -4.180      0.000      -0.607      -0.219\n",
      "Tech Support Grouped_Yes        -0.4242      0.100     -4.260      0.000      -0.619      -0.229\n",
      "Streaming TV Grouped_Yes         0.2378      0.092      2.596      0.009       0.058       0.417\n",
      "Streaming Movies Grouped_Yes     0.3251      0.092      3.551      0.000       0.146       0.505\n",
      "================================================================================================\n"
     ]
    }
   ],
   "source": [
    "## Feature matrix\n",
    "X_logit = X_train_eng[features]\n",
    "X_logit = sm.add_constant(X_logit)\n",
    "\n",
    "## Create and fit the model\n",
    "lg_reg = sm.Logit(y_train, X_logit).fit()\n",
    "\n",
    "## Get predictions\n",
    "predicted_logit = lg_reg.predict(X_logit)\n",
    "\n",
    "print(lg_reg.summary())"
   ]
  },
  {
   "cell_type": "code",
   "execution_count": 32,
   "id": "22a3d406",
   "metadata": {},
   "outputs": [
    {
     "name": "stdout",
     "output_type": "stream",
     "text": [
      "Test accuracy =  0.8072699734948883\n"
     ]
    },
    {
     "data": {
      "image/png": "[encoded data removed]",
      "text/plain": [
       "<Figure size 432x288 with 2 Axes>"
      ]
     },
     "metadata": {
      "needs_background": "light"
     },
     "output_type": "display_data"
    }
   ],
   "source": [
    "produce_confusion('Churned', 'Not Churned', 0.5, predicted_logit, y_train)"
   ]
  },
  {
   "cell_type": "code",
   "execution_count": 33,
   "id": "a96aa10d",
   "metadata": {},
   "outputs": [
    {
     "name": "stdout",
     "output_type": "stream",
     "text": [
      "Accuracy: 0.8072699734948883\n",
      "Precision: 0.653876898481215\n",
      "Recall: 0.5830363506771205\n",
      "F1: 0.6164280331574982\n"
     ]
    },
    {
     "data": {
      "text/plain": [
       "(0.8072699734948883, 0.653876898481215, 0.5830363506771205)"
      ]
     },
     "execution_count": 33,
     "metadata": {},
     "output_type": "execute_result"
    }
   ],
   "source": [
    "cutoff = 0.5\n",
    "predicted_logit_bin = np.where(predicted_logit > cutoff , 1, 0)\n",
    "apr(predicted_logit_bin, y_train)"
   ]
  },
  {
   "cell_type": "code",
   "execution_count": 34,
   "id": "2fb6a252",
   "metadata": {},
   "outputs": [
    {
     "name": "stdout",
     "output_type": "stream",
     "text": [
      "              precision    recall  f1-score   support\n",
      "\n",
      "           0       0.85      0.89      0.87      3879\n",
      "           1       0.65      0.58      0.62      1403\n",
      "\n",
      "    accuracy                           0.81      5282\n",
      "   macro avg       0.75      0.74      0.74      5282\n",
      "weighted avg       0.80      0.81      0.80      5282\n",
      "\n"
     ]
    }
   ],
   "source": [
    "print(classification_report(y_train, predicted_logit_bin))"
   ]
  },
  {
   "cell_type": "code",
   "execution_count": 35,
   "id": "5d2335f2",
   "metadata": {},
   "outputs": [
    {
     "data": {
      "image/png": "[encoded data removed]",
      "text/plain": [
       "<Figure size 432x288 with 1 Axes>"
      ]
     },
     "metadata": {
      "needs_background": "light"
     },
     "output_type": "display_data"
    },
    {
     "name": "stdout",
     "output_type": "stream",
     "text": [
      "AUC = 0.8575606869013606\n"
     ]
    }
   ],
   "source": [
    "produce_roc(predicted_logit, y_train)"
   ]
  },
  {
   "cell_type": "markdown",
   "id": "c7089ceb",
   "metadata": {},
   "source": [
    "### Model Testing"
   ]
  },
  {
   "cell_type": "code",
   "execution_count": 36,
   "id": "31a182df",
   "metadata": {},
   "outputs": [],
   "source": [
    "X_logit_test = X_test_eng[features]\n",
    "X_logit_test = sm.add_constant(X_logit_test)\n",
    "\n",
    "predicted_logit_test = lg_reg.predict(X_logit_test)"
   ]
  },
  {
   "cell_type": "code",
   "execution_count": 37,
   "id": "298b7ca1",
   "metadata": {},
   "outputs": [
    {
     "name": "stdout",
     "output_type": "stream",
     "text": [
      "Test accuracy =  0.8040885860306644\n"
     ]
    },
    {
     "data": {
      "image/png": "[encoded data removed]",
      "text/plain": [
       "<Figure size 432x288 with 2 Axes>"
      ]
     },
     "metadata": {
      "needs_background": "light"
     },
     "output_type": "display_data"
    }
   ],
   "source": [
    "produce_confusion('Churned', 'Not Churned', 0.5, predicted_logit_test, y_test)"
   ]
  },
  {
   "cell_type": "code",
   "execution_count": 38,
   "id": "712ea642",
   "metadata": {},
   "outputs": [
    {
     "name": "stdout",
     "output_type": "stream",
     "text": [
      "Accuracy: 0.8040885860306644\n",
      "Precision: 0.6531645569620254\n",
      "Recall: 0.5536480686695279\n",
      "F1: 0.5993031358885017\n"
     ]
    },
    {
     "data": {
      "text/plain": [
       "(0.8040885860306644, 0.6531645569620254, 0.5536480686695279)"
      ]
     },
     "execution_count": 38,
     "metadata": {},
     "output_type": "execute_result"
    }
   ],
   "source": [
    "predicted_logit_test_bin = np.where(predicted_logit_test > cutoff , 1, 0)\n",
    "apr(predicted_logit_test_bin, y_test)"
   ]
  },
  {
   "cell_type": "code",
   "execution_count": 39,
   "id": "0e2875ba",
   "metadata": {},
   "outputs": [
    {
     "data": {
      "image/png": "[encoded data removed]",
      "text/plain": [
       "<Figure size 432x288 with 1 Axes>"
      ]
     },
     "metadata": {
      "needs_background": "light"
     },
     "output_type": "display_data"
    },
    {
     "name": "stdout",
     "output_type": "stream",
     "text": [
      "AUC = 0.8475524881104279\n"
     ]
    }
   ],
   "source": [
    "produce_roc(predicted_logit_test, y_test)"
   ]
  },
  {
   "cell_type": "markdown",
   "id": "17a8de04",
   "metadata": {},
   "source": [
    "## Logistic Regression (Oversampling)"
   ]
  },
  {
   "cell_type": "markdown",
   "id": "e62f0dc8",
   "metadata": {},
   "source": [
    "### Model Training"
   ]
  },
  {
   "cell_type": "code",
   "execution_count": 40,
   "id": "5a162c24",
   "metadata": {},
   "outputs": [
    {
     "data": {
      "text/plain": [
       "Index(['Tenure Months', 'Monthly Charges', 'Total Charges', 'Gender_Male',\n",
       "       'Senior Citizen_Yes', 'Partner_Yes', 'Dependents_Yes',\n",
       "       'Phone Service_Yes', 'Multiple Lines_No phone service',\n",
       "       'Multiple Lines_Yes', 'Internet Service_Fiber optic',\n",
       "       'Internet Service_No', 'Online Security_No internet service',\n",
       "       'Online Security_Yes', 'Online Backup_No internet service',\n",
       "       'Online Backup_Yes', 'Device Protection_No internet service',\n",
       "       'Device Protection_Yes', 'Tech Support_No internet service',\n",
       "       'Tech Support_Yes', 'Streaming TV_No internet service',\n",
       "       'Streaming TV_Yes', 'Streaming Movies_No internet service',\n",
       "       'Streaming Movies_Yes', 'Contract_One year', 'Contract_Two year',\n",
       "       'Paperless Billing_Yes', 'Payment Method_Credit card (automatic)',\n",
       "       'Payment Method_Electronic check', 'Payment Method_Mailed check',\n",
       "       'Online Security Grouped_Yes', 'Online Backup Grouped_Yes',\n",
       "       'Device Protection Grouped_Yes', 'Tech Support Grouped_Yes',\n",
       "       'Streaming TV Grouped_Yes', 'Streaming Movies Grouped_Yes',\n",
       "       'Monthly Charges Bin_Low Charges', 'Monthly Charges Bin_Medium Charges',\n",
       "       'Tenure Months Bin_Recent Customers'],\n",
       "      dtype='object')"
      ]
     },
     "execution_count": 40,
     "metadata": {},
     "output_type": "execute_result"
    }
   ],
   "source": [
    "X_train_eng_os.columns"
   ]
  },
  {
   "cell_type": "code",
   "execution_count": 41,
   "id": "c390236c",
   "metadata": {},
   "outputs": [],
   "source": [
    "## Feature Columns to be modelled\n",
    "\n",
    "features_os = ['Tenure Months', \n",
    "            #'Monthly Charges', \n",
    "            'Total Charges',  \n",
    "            #'Gender_Male', \n",
    "            #'Senior Citizen_Yes', \n",
    "            'Partner_Yes', \n",
    "            'Dependents_Yes', \n",
    "            #'Phone Service_Yes',\n",
    "            #'Multiple Lines_No phone service', 'Multiple Lines_Yes',\n",
    "            'Internet Service_Fiber optic', 'Internet Service_No',\n",
    "            #'Online Security_No internet service', 'Online Security_Yes',\n",
    "            #'Online Backup_No internet service', 'Online Backup_Yes',\n",
    "            #'Device Protection_No internet service', 'Device Protection_Yes',\n",
    "            #'Tech Support_No internet service', 'Tech Support_Yes',\n",
    "            #'Streaming TV_No internet service', 'Streaming TV_Yes',\n",
    "            #'Streaming Movies_No internet service', 'Streaming Movies_Yes',\n",
    "            'Contract_One year', 'Contract_Two year', \n",
    "            'Paperless Billing_Yes',\n",
    "            #'Payment Method_Credit card (automatic)', 'Payment Method_Electronic check', 'Payment Method_Mailed check',\n",
    "            'Online Security Grouped_Yes', \n",
    "            #'Online Backup Grouped_Yes',\n",
    "            #'Device Protection Grouped_Yes', \n",
    "            'Tech Support Grouped_Yes',\n",
    "            'Streaming TV Grouped_Yes', \n",
    "            'Streaming Movies Grouped_Yes']"
   ]
  },
  {
   "cell_type": "code",
   "execution_count": 42,
   "id": "b7bfb303",
   "metadata": {},
   "outputs": [
    {
     "name": "stdout",
     "output_type": "stream",
     "text": [
      "Optimization terminated successfully.\n",
      "         Current function value: 0.450540\n",
      "         Iterations 7\n",
      "                           Logit Regression Results                           \n",
      "==============================================================================\n",
      "Dep. Variable:            Churn Value   No. Observations:                 7758\n",
      "Model:                          Logit   Df Residuals:                     7744\n",
      "Method:                           MLE   Df Model:                           13\n",
      "Date:                Tue, 25 May 2021   Pseudo R-squ.:                  0.3500\n",
      "Time:                        16:34:44   Log-Likelihood:                -3495.3\n",
      "converged:                       True   LL-Null:                       -5377.4\n",
      "Covariance Type:            nonrobust   LLR p-value:                     0.000\n",
      "================================================================================================\n",
      "                                   coef    std err          z      P>|z|      [0.025      0.975]\n",
      "------------------------------------------------------------------------------------------------\n",
      "const                           -0.1571      0.096     -1.636      0.102      -0.345       0.031\n",
      "Tenure Months                   -1.2313      0.116    -10.579      0.000      -1.459      -1.003\n",
      "Total Charges                    0.5069      0.122      4.160      0.000       0.268       0.746\n",
      "Partner_Yes                      0.2444      0.071      3.425      0.001       0.105       0.384\n",
      "Dependents_Yes                  -1.8833      0.106    -17.804      0.000      -2.091      -1.676\n",
      "Internet Service_Fiber optic     0.6019      0.084      7.139      0.000       0.437       0.767\n",
      "Internet Service_No             -1.1396      0.111    -10.286      0.000      -1.357      -0.922\n",
      "Contract_One year               -0.9882      0.095    -10.405      0.000      -1.174      -0.802\n",
      "Contract_Two year               -1.5700      0.144    -10.902      0.000      -1.852      -1.288\n",
      "Paperless Billing_Yes            0.3704      0.069      5.337      0.000       0.234       0.506\n",
      "Online Security Grouped_Yes     -0.4912      0.078     -6.298      0.000      -0.644      -0.338\n",
      "Tech Support Grouped_Yes        -0.4746      0.078     -6.067      0.000      -0.628      -0.321\n",
      "Streaming TV Grouped_Yes         0.2246      0.077      2.928      0.003       0.074       0.375\n",
      "Streaming Movies Grouped_Yes     0.2975      0.077      3.857      0.000       0.146       0.449\n",
      "================================================================================================\n"
     ]
    }
   ],
   "source": [
    "## Feature matrix\n",
    "X_logit_os = X_train_eng_os[features_os]\n",
    "X_logit_os = sm.add_constant(X_logit_os)\n",
    "\n",
    "## Create and fit the model\n",
    "lg_reg_os = sm.Logit(y_train_os, X_logit_os).fit()\n",
    "\n",
    "## Get predictions\n",
    "predicted_logit_os = lg_reg_os.predict(X_logit_os)\n",
    "\n",
    "print(lg_reg_os.summary())"
   ]
  },
  {
   "cell_type": "code",
   "execution_count": 43,
   "id": "f1a53c8a",
   "metadata": {},
   "outputs": [
    {
     "name": "stdout",
     "output_type": "stream",
     "text": [
      "Test accuracy =  0.7898943026553236\n"
     ]
    },
    {
     "data": {
      "image/png": "[encoded data removed]",
      "text/plain": [
       "<Figure size 432x288 with 2 Axes>"
      ]
     },
     "metadata": {
      "needs_background": "light"
     },
     "output_type": "display_data"
    }
   ],
   "source": [
    "produce_confusion('Churned', 'Not Churned', 0.5, predicted_logit_os, y_train_os)"
   ]
  },
  {
   "cell_type": "code",
   "execution_count": 44,
   "id": "e847a52b",
   "metadata": {},
   "outputs": [
    {
     "name": "stdout",
     "output_type": "stream",
     "text": [
      "Accuracy: 0.7898943026553236\n",
      "Precision: 0.7697289517869993\n",
      "Recall: 0.8272750708945604\n",
      "F1: 0.7974652087475148\n"
     ]
    },
    {
     "data": {
      "text/plain": [
       "(0.7898943026553236, 0.7697289517869993, 0.8272750708945604)"
      ]
     },
     "execution_count": 44,
     "metadata": {},
     "output_type": "execute_result"
    }
   ],
   "source": [
    "cutoff = 0.5\n",
    "predicted_logit_bin_os = np.where(predicted_logit_os > cutoff , 1, 0)\n",
    "apr(predicted_logit_bin_os, y_train_os)"
   ]
  },
  {
   "cell_type": "code",
   "execution_count": 45,
   "id": "ac4a33d4",
   "metadata": {},
   "outputs": [
    {
     "data": {
      "image/png": "[encoded data removed]",
      "text/plain": [
       "<Figure size 432x288 with 1 Axes>"
      ]
     },
     "metadata": {
      "needs_background": "light"
     },
     "output_type": "display_data"
    },
    {
     "name": "stdout",
     "output_type": "stream",
     "text": [
      "AUC = 0.8673840560162233\n"
     ]
    }
   ],
   "source": [
    "produce_roc(predicted_logit_os, y_train_os)"
   ]
  },
  {
   "cell_type": "markdown",
   "id": "5ce1ea5f",
   "metadata": {},
   "source": [
    "### Model Testing"
   ]
  },
  {
   "cell_type": "code",
   "execution_count": 46,
   "id": "5698c7f0",
   "metadata": {},
   "outputs": [],
   "source": [
    "X_logit_test_os = X_test_eng[features_os]\n",
    "X_logit_test_os = sm.add_constant(X_logit_test_os)\n",
    "\n",
    "predicted_logit_test_os = lg_reg_os.predict(X_logit_test_os)"
   ]
  },
  {
   "cell_type": "code",
   "execution_count": 47,
   "id": "853770db",
   "metadata": {},
   "outputs": [
    {
     "name": "stdout",
     "output_type": "stream",
     "text": [
      "Test accuracy =  0.7524134014764339\n"
     ]
    },
    {
     "data": {
      "image/png": "[encoded data removed]",
      "text/plain": [
       "<Figure size 432x288 with 2 Axes>"
      ]
     },
     "metadata": {
      "needs_background": "light"
     },
     "output_type": "display_data"
    }
   ],
   "source": [
    "produce_confusion('Churned', 'Not Churned', 0.5, predicted_logit_test_os, y_test)"
   ]
  },
  {
   "cell_type": "code",
   "execution_count": 48,
   "id": "f94c233b",
   "metadata": {},
   "outputs": [
    {
     "name": "stdout",
     "output_type": "stream",
     "text": [
      "Accuracy: 0.7524134014764339\n",
      "Precision: 0.520949720670391\n",
      "Recall: 0.8004291845493562\n",
      "F1: 0.6311336717428088\n"
     ]
    },
    {
     "data": {
      "text/plain": [
       "(0.7524134014764339, 0.520949720670391, 0.8004291845493562)"
      ]
     },
     "execution_count": 48,
     "metadata": {},
     "output_type": "execute_result"
    }
   ],
   "source": [
    "cutoff = 0.5\n",
    "predicted_logit_test_bin_os = np.where(predicted_logit_test_os > cutoff , 1, 0)\n",
    "apr(predicted_logit_test_bin_os, y_test)"
   ]
  },
  {
   "cell_type": "code",
   "execution_count": 49,
   "id": "a6c39e91",
   "metadata": {},
   "outputs": [
    {
     "data": {
      "image/png": "[encoded data removed]",
      "text/plain": [
       "<Figure size 432x288 with 1 Axes>"
      ]
     },
     "metadata": {
      "needs_background": "light"
     },
     "output_type": "display_data"
    },
    {
     "name": "stdout",
     "output_type": "stream",
     "text": [
      "AUC = 0.850528609541485\n"
     ]
    }
   ],
   "source": [
    "produce_roc(predicted_logit_test_os, y_test)"
   ]
  },
  {
   "cell_type": "markdown",
   "id": "083816df",
   "metadata": {},
   "source": [
    "## Support Vector Machine"
   ]
  },
  {
   "cell_type": "markdown",
   "id": "65a055a7",
   "metadata": {},
   "source": [
    "### Model Training"
   ]
  },
  {
   "cell_type": "code",
   "execution_count": 50,
   "id": "61ffa70e",
   "metadata": {},
   "outputs": [],
   "source": [
    "features_svm = ['Tenure Months', \n",
    "                #'Monthly Charges', \n",
    "                'Total Charges',  \n",
    "                #'Gender_Male', \n",
    "                'Senior Citizen_Yes', \n",
    "                'Partner_Yes', \n",
    "                'Dependents_Yes', \n",
    "                'Phone Service_Yes',\n",
    "                #'Multiple Lines_No phone service', 'Multiple Lines_Yes',\n",
    "                'Internet Service_Fiber optic', 'Internet Service_No',\n",
    "                #'Online Security_No internet service', 'Online Security_Yes',\n",
    "                #'Online Backup_No internet service', 'Online Backup_Yes',\n",
    "                #'Device Protection_No internet service', 'Device Protection_Yes',\n",
    "                #'Tech Support_No internet service', 'Tech Support_Yes',\n",
    "                #'Streaming TV_No internet service', 'Streaming TV_Yes',\n",
    "                #'Streaming Movies_No internet service', 'Streaming Movies_Yes',\n",
    "                'Contract_One year', 'Contract_Two year', \n",
    "                'Paperless Billing_Yes',\n",
    "                #'Payment Method_Credit card (automatic)', 'Payment Method_Electronic check', 'Payment Method_Mailed check',\n",
    "                'Online Security Grouped_Yes', \n",
    "                #'Online Backup Grouped_Yes',\n",
    "                #'Device Protection Grouped_Yes', \n",
    "                'Tech Support Grouped_Yes',\n",
    "                'Streaming TV Grouped_Yes', \n",
    "                'Streaming Movies Grouped_Yes',\n",
    "                'Monthly Charges Bin_Low Charges', 'Monthly Charges Bin_Medium Charges',\n",
    "                'Tenure Months Bin_Recent Customers'\n",
    "               ]"
   ]
  },
  {
   "cell_type": "code",
   "execution_count": 51,
   "id": "83283f95",
   "metadata": {},
   "outputs": [],
   "source": [
    "X_svm = X_train_eng[features_svm]"
   ]
  },
  {
   "cell_type": "code",
   "execution_count": 52,
   "id": "90c89140",
   "metadata": {},
   "outputs": [],
   "source": [
    "svm_parameters = [{'kernel': ['rbf'], 'gamma': [1e-3, 1e-4],'C': [1, 10, 100, 1000]},\n",
    "                  {'kernel': ['poly'], 'gamma': [1e-3, 1e-4],'C': [1, 10, 100, 1000]}]"
   ]
  },
  {
   "cell_type": "markdown",
   "id": "1cb1bb90",
   "metadata": {},
   "source": [
    "grid_svm = GridSearchCV(SVC(), svm_parameters, scoring = 'accuracy', verbose = 4)\n",
    "grid_svm.fit(X_svm, y_train)"
   ]
  },
  {
   "cell_type": "markdown",
   "id": "9dc6a6cd",
   "metadata": {},
   "source": [
    "grid_svm.best_params_"
   ]
  },
  {
   "cell_type": "code",
   "execution_count": 53,
   "id": "8c67e3f1",
   "metadata": {},
   "outputs": [
    {
     "data": {
      "text/plain": [
       "SVC(C=10, probability=True)"
      ]
     },
     "execution_count": 53,
     "metadata": {},
     "output_type": "execute_result"
    }
   ],
   "source": [
    "svm_model = SVC(gamma = 'scale',\n",
    "                kernel = 'rbf',\n",
    "                C = 10,\n",
    "                probability = True)\n",
    "\n",
    "svm_model.fit(X_svm, y_train)"
   ]
  },
  {
   "cell_type": "code",
   "execution_count": 54,
   "id": "258329d0",
   "metadata": {},
   "outputs": [
    {
     "name": "stdout",
     "output_type": "stream",
     "text": [
      "Accuracy: 0.8271488072699735\n",
      "Precision: 0.7001633986928104\n",
      "Recall: 0.6108339272986457\n",
      "F1: 0.652455272173582\n"
     ]
    },
    {
     "data": {
      "text/plain": [
       "(0.8271488072699735, 0.7001633986928104, 0.6108339272986457)"
      ]
     },
     "execution_count": 54,
     "metadata": {},
     "output_type": "execute_result"
    }
   ],
   "source": [
    "apr(svm_model.predict(X_svm), y_train)"
   ]
  },
  {
   "cell_type": "code",
   "execution_count": 55,
   "id": "f223a974",
   "metadata": {},
   "outputs": [
    {
     "data": {
      "image/png": "[encoded data removed]",
      "text/plain": [
       "<Figure size 432x288 with 1 Axes>"
      ]
     },
     "metadata": {
      "needs_background": "light"
     },
     "output_type": "display_data"
    },
    {
     "name": "stdout",
     "output_type": "stream",
     "text": [
      "AUC = 0.8848455148131182\n"
     ]
    }
   ],
   "source": [
    "produce_roc(svm_model.predict_proba(X_svm)[:, 1], y_train)"
   ]
  },
  {
   "cell_type": "code",
   "execution_count": 56,
   "id": "4624aa6e",
   "metadata": {},
   "outputs": [
    {
     "name": "stdout",
     "output_type": "stream",
     "text": [
      "Accuracy of each cv: [0.78997162 0.78807947 0.78693182 0.80208333 0.81439394]\n",
      "Average accuracy: 0.7962920357787908\n",
      "Standard deviation: 0.01054728052465637\n"
     ]
    }
   ],
   "source": [
    "cv_score(svm_model, X_svm, y_train)"
   ]
  },
  {
   "cell_type": "markdown",
   "id": "8c16aa3a",
   "metadata": {},
   "source": [
    "### Model Testing"
   ]
  },
  {
   "cell_type": "code",
   "execution_count": 57,
   "id": "3ed7e6f2",
   "metadata": {},
   "outputs": [
    {
     "name": "stdout",
     "output_type": "stream",
     "text": [
      "Accuracy: 0.8069278818852924\n",
      "Precision: 0.6632124352331606\n",
      "Recall: 0.5493562231759657\n",
      "F1: 0.6009389671361501\n"
     ]
    },
    {
     "data": {
      "text/plain": [
       "(0.8069278818852924, 0.6632124352331606, 0.5493562231759657)"
      ]
     },
     "execution_count": 57,
     "metadata": {},
     "output_type": "execute_result"
    }
   ],
   "source": [
    "apr(svm_model.predict(X_test_eng[features_svm]), y_test)"
   ]
  },
  {
   "cell_type": "code",
   "execution_count": 58,
   "id": "6e505ce1",
   "metadata": {},
   "outputs": [
    {
     "data": {
      "image/png": "[encoded data removed]",
      "text/plain": [
       "<Figure size 432x288 with 1 Axes>"
      ]
     },
     "metadata": {
      "needs_background": "light"
     },
     "output_type": "display_data"
    },
    {
     "name": "stdout",
     "output_type": "stream",
     "text": [
      "AUC = 0.8210789268729183\n"
     ]
    }
   ],
   "source": [
    "produce_roc(svm_model.predict_proba(X_test_eng[features_svm])[:, 1], y_test)"
   ]
  },
  {
   "cell_type": "markdown",
   "id": "67afd13c",
   "metadata": {},
   "source": [
    "## Decision Trees"
   ]
  },
  {
   "cell_type": "markdown",
   "id": "8ffad90d",
   "metadata": {},
   "source": [
    "### Model Training"
   ]
  },
  {
   "cell_type": "code",
   "execution_count": 59,
   "id": "797f5d48",
   "metadata": {},
   "outputs": [],
   "source": [
    "grid_tree = GridSearchCV(estimator = DecisionTreeClassifier(),\n",
    "                         param_grid = {'max_depth': [3, 5, 7, 10],\n",
    "                                       'min_samples_split': [5, 10, 15, 20],\n",
    "                                       'min_samples_leaf': [2, 3, 4, 5, 6, 7]},\n",
    "                         cv = 5,\n",
    "                         refit = True,\n",
    "                         verbose = 1,\n",
    "                         scoring = 'accuracy')"
   ]
  },
  {
   "cell_type": "code",
   "execution_count": 60,
   "id": "51aee3e9",
   "metadata": {},
   "outputs": [
    {
     "name": "stdout",
     "output_type": "stream",
     "text": [
      "Fitting 5 folds for each of 96 candidates, totalling 480 fits\n"
     ]
    },
    {
     "data": {
      "text/plain": [
       "GridSearchCV(cv=5, estimator=DecisionTreeClassifier(),\n",
       "             param_grid={'max_depth': [3, 5, 7, 10],\n",
       "                         'min_samples_leaf': [2, 3, 4, 5, 6, 7],\n",
       "                         'min_samples_split': [5, 10, 15, 20]},\n",
       "             scoring='accuracy', verbose=1)"
      ]
     },
     "execution_count": 60,
     "metadata": {},
     "output_type": "execute_result"
    }
   ],
   "source": [
    "grid_tree.fit(X_train_eng[features], y_train)"
   ]
  },
  {
   "cell_type": "code",
   "execution_count": 61,
   "id": "3f30889f",
   "metadata": {},
   "outputs": [
    {
     "name": "stdout",
     "output_type": "stream",
     "text": [
      "Best model: DecisionTreeClassifier(max_depth=7, min_samples_leaf=7, min_samples_split=5)\n",
      "Best score: 0.7993235930735931\n"
     ]
    }
   ],
   "source": [
    "print(f'Best model: {grid_tree.best_estimator_}')\n",
    "print(f'Best score: {grid_tree.best_score_}')"
   ]
  },
  {
   "cell_type": "code",
   "execution_count": 62,
   "id": "757796aa",
   "metadata": {},
   "outputs": [
    {
     "data": {
      "image/png": "[encoded data removed]",
      "text/plain": [
       "<Figure size 1800x1440 with 1 Axes>"
      ]
     },
     "metadata": {
      "needs_background": "light"
     },
     "output_type": "display_data"
    }
   ],
   "source": [
    "tree_model = DecisionTreeClassifier(max_depth = 7, min_samples_leaf = 7, min_samples_split = 40, random_state = 1)\n",
    "tree_model.fit(X_train_eng[features], y_train)\n",
    "\n",
    "fig = plt.figure(figsize = (25, 20))\n",
    "_ = tree.plot_tree(tree_model, \n",
    "                   feature_names = features,  \n",
    "                   class_names = ['Not Churned', 'Churned'],\n",
    "                   filled = True)"
   ]
  },
  {
   "cell_type": "code",
   "execution_count": 63,
   "id": "b79580ef",
   "metadata": {},
   "outputs": [
    {
     "name": "stdout",
     "output_type": "stream",
     "text": [
      "Accuracy: 0.8135176069670579\n",
      "Precision: 0.6602760736196319\n",
      "Recall: 0.6136849607982894\n",
      "F1: 0.6361285555966014\n"
     ]
    },
    {
     "data": {
      "text/plain": [
       "(0.8135176069670579, 0.6602760736196319, 0.6136849607982894)"
      ]
     },
     "execution_count": 63,
     "metadata": {},
     "output_type": "execute_result"
    }
   ],
   "source": [
    "apr(tree_model.predict(X_train_eng[features]), y_train)"
   ]
  },
  {
   "cell_type": "code",
   "execution_count": 64,
   "id": "d448e60d",
   "metadata": {},
   "outputs": [
    {
     "data": {
      "image/png": "[encoded data removed]",
      "text/plain": [
       "<Figure size 432x288 with 1 Axes>"
      ]
     },
     "metadata": {
      "needs_background": "light"
     },
     "output_type": "display_data"
    },
    {
     "name": "stdout",
     "output_type": "stream",
     "text": [
      "AUC = 0.8705156537651705\n"
     ]
    }
   ],
   "source": [
    "produce_roc(tree_model.predict_proba(X_train_eng[features])[:, 1], y_train)"
   ]
  },
  {
   "cell_type": "markdown",
   "id": "1d251fbe",
   "metadata": {},
   "source": [
    "### Model Testing"
   ]
  },
  {
   "cell_type": "code",
   "execution_count": 65,
   "id": "ad908509",
   "metadata": {},
   "outputs": [
    {
     "name": "stdout",
     "output_type": "stream",
     "text": [
      "Accuracy: 0.8057921635434412\n",
      "Precision: 0.6497584541062802\n",
      "Recall: 0.5772532188841202\n",
      "F1: 0.6113636363636363\n"
     ]
    },
    {
     "data": {
      "text/plain": [
       "(0.8057921635434412, 0.6497584541062802, 0.5772532188841202)"
      ]
     },
     "execution_count": 65,
     "metadata": {},
     "output_type": "execute_result"
    }
   ],
   "source": [
    "apr(tree_model.predict(X_test_eng[features]), y_test)"
   ]
  },
  {
   "cell_type": "code",
   "execution_count": 66,
   "id": "5559eee8",
   "metadata": {},
   "outputs": [
    {
     "data": {
      "image/png": "[encoded data removed]",
      "text/plain": [
       "<Figure size 432x288 with 1 Axes>"
      ]
     },
     "metadata": {
      "needs_background": "light"
     },
     "output_type": "display_data"
    },
    {
     "name": "stdout",
     "output_type": "stream",
     "text": [
      "AUC = 0.8407427046912026\n"
     ]
    }
   ],
   "source": [
    "produce_roc(tree_model.predict_proba(X_test_eng[features])[:, 1], y_test)"
   ]
  },
  {
   "cell_type": "code",
   "execution_count": 67,
   "id": "732fab03",
   "metadata": {},
   "outputs": [
    {
     "data": {
      "text/html": [
       "<div>\n",
       "<style scoped>\n",
       "    .dataframe tbody tr th:only-of-type {\n",
       "        vertical-align: middle;\n",
       "    }\n",
       "\n",
       "    .dataframe tbody tr th {\n",
       "        vertical-align: top;\n",
       "    }\n",
       "\n",
       "    .dataframe thead th {\n",
       "        text-align: right;\n",
       "    }\n",
       "</style>\n",
       "<table border=\"1\" class=\"dataframe\">\n",
       "  <thead>\n",
       "    <tr style=\"text-align: right;\">\n",
       "      <th></th>\n",
       "      <th>Features</th>\n",
       "      <th>Importance</th>\n",
       "    </tr>\n",
       "  </thead>\n",
       "  <tbody>\n",
       "    <tr>\n",
       "      <th>0</th>\n",
       "      <td>Tenure Months</td>\n",
       "      <td>0.440284</td>\n",
       "    </tr>\n",
       "    <tr>\n",
       "      <th>3</th>\n",
       "      <td>Internet Service_Fiber optic</td>\n",
       "      <td>0.320207</td>\n",
       "    </tr>\n",
       "    <tr>\n",
       "      <th>2</th>\n",
       "      <td>Dependents_Yes</td>\n",
       "      <td>0.085486</td>\n",
       "    </tr>\n",
       "    <tr>\n",
       "      <th>4</th>\n",
       "      <td>Internet Service_No</td>\n",
       "      <td>0.047438</td>\n",
       "    </tr>\n",
       "    <tr>\n",
       "      <th>8</th>\n",
       "      <td>Online Security Grouped_Yes</td>\n",
       "      <td>0.021250</td>\n",
       "    </tr>\n",
       "    <tr>\n",
       "      <th>5</th>\n",
       "      <td>Contract_One year</td>\n",
       "      <td>0.019521</td>\n",
       "    </tr>\n",
       "    <tr>\n",
       "      <th>9</th>\n",
       "      <td>Tech Support Grouped_Yes</td>\n",
       "      <td>0.017257</td>\n",
       "    </tr>\n",
       "    <tr>\n",
       "      <th>6</th>\n",
       "      <td>Contract_Two year</td>\n",
       "      <td>0.014621</td>\n",
       "    </tr>\n",
       "    <tr>\n",
       "      <th>10</th>\n",
       "      <td>Streaming TV Grouped_Yes</td>\n",
       "      <td>0.011730</td>\n",
       "    </tr>\n",
       "    <tr>\n",
       "      <th>7</th>\n",
       "      <td>Paperless Billing_Yes</td>\n",
       "      <td>0.011627</td>\n",
       "    </tr>\n",
       "    <tr>\n",
       "      <th>1</th>\n",
       "      <td>Partner_Yes</td>\n",
       "      <td>0.007823</td>\n",
       "    </tr>\n",
       "    <tr>\n",
       "      <th>11</th>\n",
       "      <td>Streaming Movies Grouped_Yes</td>\n",
       "      <td>0.002757</td>\n",
       "    </tr>\n",
       "  </tbody>\n",
       "</table>\n",
       "</div>"
      ],
      "text/plain": [
       "                        Features  Importance\n",
       "0                  Tenure Months    0.440284\n",
       "3   Internet Service_Fiber optic    0.320207\n",
       "2                 Dependents_Yes    0.085486\n",
       "4            Internet Service_No    0.047438\n",
       "8    Online Security Grouped_Yes    0.021250\n",
       "5              Contract_One year    0.019521\n",
       "9       Tech Support Grouped_Yes    0.017257\n",
       "6              Contract_Two year    0.014621\n",
       "10      Streaming TV Grouped_Yes    0.011730\n",
       "7          Paperless Billing_Yes    0.011627\n",
       "1                    Partner_Yes    0.007823\n",
       "11  Streaming Movies Grouped_Yes    0.002757"
      ]
     },
     "execution_count": 67,
     "metadata": {},
     "output_type": "execute_result"
    }
   ],
   "source": [
    "importance = pd.DataFrame(zip(features, tree_model.feature_importances_))\n",
    "importance.columns = ['Features', 'Importance']\n",
    "importance.sort_values(by = 'Importance', ascending = False)"
   ]
  },
  {
   "cell_type": "markdown",
   "id": "d684d877",
   "metadata": {},
   "source": [
    "## Random Forest - Final Model Used"
   ]
  },
  {
   "cell_type": "markdown",
   "id": "b50717dd",
   "metadata": {},
   "source": [
    "### Model Training"
   ]
  },
  {
   "cell_type": "code",
   "execution_count": 68,
   "id": "12015680",
   "metadata": {},
   "outputs": [],
   "source": [
    "grid_rf = GridSearchCV(estimator = RandomForestClassifier(),\n",
    "                         param_grid = {'class_weight': ['balanced'],\n",
    "                                       'n_estimators': [50, 100, 500],\n",
    "                                       'max_depth': [3, 5, 7, 10],\n",
    "                                       'min_samples_split': [5, 10, 15, 20],\n",
    "                                       'min_samples_leaf': [2, 3, 4, 5, 6, 7]},\n",
    "                         cv = 5,\n",
    "                         refit = True,\n",
    "                         verbose = 3,\n",
    "                         scoring = 'accuracy')"
   ]
  },
  {
   "cell_type": "markdown",
   "id": "62c49e05",
   "metadata": {},
   "source": [
    "grid_rf.fit(X_train_eng[features], y_train)"
   ]
  },
  {
   "cell_type": "markdown",
   "id": "4fdd7a3f",
   "metadata": {},
   "source": [
    "- If time allows, perform a randomised search"
   ]
  },
  {
   "cell_type": "markdown",
   "id": "56863f5a",
   "metadata": {},
   "source": [
    "print(f'Best model: {grid_rf.best_estimator_}')\n",
    "print(f'Best score: {grid_rf.best_score_}')"
   ]
  },
  {
   "cell_type": "code",
   "execution_count": 69,
   "id": "1f060f7d",
   "metadata": {},
   "outputs": [
    {
     "data": {
      "text/plain": [
       "RandomForestClassifier(class_weight='balanced', max_depth=10,\n",
       "                       min_samples_leaf=2, min_samples_split=10,\n",
       "                       n_estimators=500, random_state=1)"
      ]
     },
     "execution_count": 69,
     "metadata": {},
     "output_type": "execute_result"
    }
   ],
   "source": [
    "rf = RandomForestClassifier(max_depth = 10, min_samples_leaf = 2, min_samples_split = 10,\n",
    "                            n_estimators = 500, max_features = 'auto', random_state = 1, class_weight = 'balanced')\n",
    "rf.fit(X_train_eng[features], y_train)"
   ]
  },
  {
   "cell_type": "code",
   "execution_count": 70,
   "id": "d492d9ff",
   "metadata": {},
   "outputs": [
    {
     "name": "stdout",
     "output_type": "stream",
     "text": [
      "Accuracy: 0.8059447179098826\n",
      "Precision: 0.5918367346938775\n",
      "Recall: 0.8681397006414825\n",
      "F1: 0.7038428199942214\n"
     ]
    },
    {
     "data": {
      "text/plain": [
       "(0.8059447179098826, 0.5918367346938775, 0.8681397006414825)"
      ]
     },
     "execution_count": 70,
     "metadata": {},
     "output_type": "execute_result"
    }
   ],
   "source": [
    "apr(rf.predict(X_train_eng[features]), y_train)"
   ]
  },
  {
   "cell_type": "code",
   "execution_count": 71,
   "id": "77219aa7",
   "metadata": {},
   "outputs": [
    {
     "data": {
      "image/png": "[encoded data removed]",
      "text/plain": [
       "<Figure size 432x288 with 1 Axes>"
      ]
     },
     "metadata": {
      "needs_background": "light"
     },
     "output_type": "display_data"
    },
    {
     "name": "stdout",
     "output_type": "stream",
     "text": [
      "AUC = 0.9059387711340025\n"
     ]
    }
   ],
   "source": [
    "produce_roc(rf.predict_proba(X_train_eng[features])[:, 1], y_train)"
   ]
  },
  {
   "cell_type": "markdown",
   "id": "4374e5c6",
   "metadata": {},
   "source": [
    "### Model Testing"
   ]
  },
  {
   "cell_type": "code",
   "execution_count": 72,
   "id": "b3a0ce36",
   "metadata": {},
   "outputs": [
    {
     "name": "stdout",
     "output_type": "stream",
     "text": [
      "Accuracy: 0.7722884724588303\n",
      "Precision: 0.5487256371814093\n",
      "Recall: 0.7854077253218884\n",
      "F1: 0.6460723742277141\n"
     ]
    },
    {
     "data": {
      "text/plain": [
       "(0.7722884724588303, 0.5487256371814093, 0.7854077253218884)"
      ]
     },
     "execution_count": 72,
     "metadata": {},
     "output_type": "execute_result"
    }
   ],
   "source": [
    "apr(rf.predict(X_test_eng[features]), y_test)"
   ]
  },
  {
   "cell_type": "code",
   "execution_count": 73,
   "id": "ef885c3d",
   "metadata": {},
   "outputs": [
    {
     "data": {
      "image/png": "[encoded data removed]",
      "text/plain": [
       "<Figure size 432x288 with 1 Axes>"
      ]
     },
     "metadata": {
      "needs_background": "light"
     },
     "output_type": "display_data"
    },
    {
     "name": "stdout",
     "output_type": "stream",
     "text": [
      "AUC = 0.8556672245513447\n"
     ]
    }
   ],
   "source": [
    "produce_roc(rf.predict_proba(X_test_eng[features])[:, 1], y_test)"
   ]
  },
  {
   "cell_type": "code",
   "execution_count": 74,
   "id": "2b9bb94c",
   "metadata": {},
   "outputs": [
    {
     "data": {
      "text/html": [
       "<div>\n",
       "<style scoped>\n",
       "    .dataframe tbody tr th:only-of-type {\n",
       "        vertical-align: middle;\n",
       "    }\n",
       "\n",
       "    .dataframe tbody tr th {\n",
       "        vertical-align: top;\n",
       "    }\n",
       "\n",
       "    .dataframe thead th {\n",
       "        text-align: right;\n",
       "    }\n",
       "</style>\n",
       "<table border=\"1\" class=\"dataframe\">\n",
       "  <thead>\n",
       "    <tr style=\"text-align: right;\">\n",
       "      <th></th>\n",
       "      <th>Features</th>\n",
       "      <th>Importance</th>\n",
       "    </tr>\n",
       "  </thead>\n",
       "  <tbody>\n",
       "    <tr>\n",
       "      <th>0</th>\n",
       "      <td>Tenure Months</td>\n",
       "      <td>0.307404</td>\n",
       "    </tr>\n",
       "    <tr>\n",
       "      <th>6</th>\n",
       "      <td>Contract_Two year</td>\n",
       "      <td>0.144408</td>\n",
       "    </tr>\n",
       "    <tr>\n",
       "      <th>3</th>\n",
       "      <td>Internet Service_Fiber optic</td>\n",
       "      <td>0.129533</td>\n",
       "    </tr>\n",
       "    <tr>\n",
       "      <th>2</th>\n",
       "      <td>Dependents_Yes</td>\n",
       "      <td>0.101315</td>\n",
       "    </tr>\n",
       "    <tr>\n",
       "      <th>4</th>\n",
       "      <td>Internet Service_No</td>\n",
       "      <td>0.072196</td>\n",
       "    </tr>\n",
       "    <tr>\n",
       "      <th>5</th>\n",
       "      <td>Contract_One year</td>\n",
       "      <td>0.071899</td>\n",
       "    </tr>\n",
       "    <tr>\n",
       "      <th>8</th>\n",
       "      <td>Online Security Grouped_Yes</td>\n",
       "      <td>0.035758</td>\n",
       "    </tr>\n",
       "    <tr>\n",
       "      <th>9</th>\n",
       "      <td>Tech Support Grouped_Yes</td>\n",
       "      <td>0.033867</td>\n",
       "    </tr>\n",
       "    <tr>\n",
       "      <th>7</th>\n",
       "      <td>Paperless Billing_Yes</td>\n",
       "      <td>0.032521</td>\n",
       "    </tr>\n",
       "    <tr>\n",
       "      <th>1</th>\n",
       "      <td>Partner_Yes</td>\n",
       "      <td>0.027269</td>\n",
       "    </tr>\n",
       "    <tr>\n",
       "      <th>11</th>\n",
       "      <td>Streaming Movies Grouped_Yes</td>\n",
       "      <td>0.022625</td>\n",
       "    </tr>\n",
       "    <tr>\n",
       "      <th>10</th>\n",
       "      <td>Streaming TV Grouped_Yes</td>\n",
       "      <td>0.021206</td>\n",
       "    </tr>\n",
       "  </tbody>\n",
       "</table>\n",
       "</div>"
      ],
      "text/plain": [
       "                        Features  Importance\n",
       "0                  Tenure Months    0.307404\n",
       "6              Contract_Two year    0.144408\n",
       "3   Internet Service_Fiber optic    0.129533\n",
       "2                 Dependents_Yes    0.101315\n",
       "4            Internet Service_No    0.072196\n",
       "5              Contract_One year    0.071899\n",
       "8    Online Security Grouped_Yes    0.035758\n",
       "9       Tech Support Grouped_Yes    0.033867\n",
       "7          Paperless Billing_Yes    0.032521\n",
       "1                    Partner_Yes    0.027269\n",
       "11  Streaming Movies Grouped_Yes    0.022625\n",
       "10      Streaming TV Grouped_Yes    0.021206"
      ]
     },
     "execution_count": 74,
     "metadata": {},
     "output_type": "execute_result"
    }
   ],
   "source": [
    "importance_rf = pd.DataFrame(zip(features, rf.feature_importances_))\n",
    "importance_rf.columns = ['Features', 'Importance']\n",
    "importance_rf.sort_values(by = 'Importance', ascending = False)"
   ]
  },
  {
   "cell_type": "markdown",
   "id": "39a2c659",
   "metadata": {},
   "source": [
    "## Generating Customer List"
   ]
  },
  {
   "cell_type": "code",
   "execution_count": 75,
   "id": "f49777d7",
   "metadata": {},
   "outputs": [],
   "source": [
    "Customer_full = data_eng(churn_full_cleaned, onehot = True, onehot_cols = onehot_list,\n",
    "                    standardise_list = scale_list)"
   ]
  },
  {
   "cell_type": "code",
   "execution_count": 76,
   "id": "bdf1f470",
   "metadata": {},
   "outputs": [],
   "source": [
    "Customer_full['Churn Risk'] = rf.predict_proba(Customer_full[features])[:, 1]"
   ]
  },
  {
   "cell_type": "code",
   "execution_count": 77,
   "id": "7454eed8",
   "metadata": {},
   "outputs": [
    {
     "data": {
      "text/html": [
       "<div>\n",
       "<style scoped>\n",
       "    .dataframe tbody tr th:only-of-type {\n",
       "        vertical-align: middle;\n",
       "    }\n",
       "\n",
       "    .dataframe tbody tr th {\n",
       "        vertical-align: top;\n",
       "    }\n",
       "\n",
       "    .dataframe thead th {\n",
       "        text-align: right;\n",
       "    }\n",
       "</style>\n",
       "<table border=\"1\" class=\"dataframe\">\n",
       "  <thead>\n",
       "    <tr style=\"text-align: right;\">\n",
       "      <th></th>\n",
       "      <th>Churn Risk</th>\n",
       "      <th>Churn Value</th>\n",
       "    </tr>\n",
       "  </thead>\n",
       "  <tbody>\n",
       "    <tr>\n",
       "      <th>0</th>\n",
       "      <td>0.768083</td>\n",
       "      <td>1</td>\n",
       "    </tr>\n",
       "    <tr>\n",
       "      <th>1</th>\n",
       "      <td>0.848376</td>\n",
       "      <td>1</td>\n",
       "    </tr>\n",
       "    <tr>\n",
       "      <th>2</th>\n",
       "      <td>0.796363</td>\n",
       "      <td>1</td>\n",
       "    </tr>\n",
       "    <tr>\n",
       "      <th>3</th>\n",
       "      <td>0.363280</td>\n",
       "      <td>1</td>\n",
       "    </tr>\n",
       "    <tr>\n",
       "      <th>4</th>\n",
       "      <td>0.356314</td>\n",
       "      <td>1</td>\n",
       "    </tr>\n",
       "    <tr>\n",
       "      <th>...</th>\n",
       "      <td>...</td>\n",
       "      <td>...</td>\n",
       "    </tr>\n",
       "    <tr>\n",
       "      <th>7038</th>\n",
       "      <td>0.000840</td>\n",
       "      <td>0</td>\n",
       "    </tr>\n",
       "    <tr>\n",
       "      <th>7039</th>\n",
       "      <td>0.040596</td>\n",
       "      <td>0</td>\n",
       "    </tr>\n",
       "    <tr>\n",
       "      <th>7040</th>\n",
       "      <td>0.019776</td>\n",
       "      <td>0</td>\n",
       "    </tr>\n",
       "    <tr>\n",
       "      <th>7041</th>\n",
       "      <td>0.198227</td>\n",
       "      <td>0</td>\n",
       "    </tr>\n",
       "    <tr>\n",
       "      <th>7042</th>\n",
       "      <td>0.255354</td>\n",
       "      <td>0</td>\n",
       "    </tr>\n",
       "  </tbody>\n",
       "</table>\n",
       "<p>7043 rows × 2 columns</p>\n",
       "</div>"
      ],
      "text/plain": [
       "      Churn Risk  Churn Value\n",
       "0       0.768083            1\n",
       "1       0.848376            1\n",
       "2       0.796363            1\n",
       "3       0.363280            1\n",
       "4       0.356314            1\n",
       "...          ...          ...\n",
       "7038    0.000840            0\n",
       "7039    0.040596            0\n",
       "7040    0.019776            0\n",
       "7041    0.198227            0\n",
       "7042    0.255354            0\n",
       "\n",
       "[7043 rows x 2 columns]"
      ]
     },
     "execution_count": 77,
     "metadata": {},
     "output_type": "execute_result"
    }
   ],
   "source": [
    "Customer_full[['Churn Risk', 'Churn Value']]"
   ]
  },
  {
   "cell_type": "code",
   "execution_count": 78,
   "id": "e8e15412",
   "metadata": {},
   "outputs": [],
   "source": [
    "Customer = Customer_full[Customer_full['Churn Value'] != 1]"
   ]
  },
  {
   "cell_type": "markdown",
   "id": "3af5b30c",
   "metadata": {},
   "source": [
    "### Top 500 Customers At Risk of Churning"
   ]
  },
  {
   "cell_type": "code",
   "execution_count": 79,
   "id": "9909e4c0",
   "metadata": {},
   "outputs": [],
   "source": [
    "High_Risk = Customer[['CustomerID', 'Churn Risk']].sort_values(by = 'Churn Risk', ascending = False).head(500)"
   ]
  },
  {
   "cell_type": "code",
   "execution_count": 80,
   "id": "ff28c335",
   "metadata": {},
   "outputs": [],
   "source": [
    "High_Risk.to_csv('OneDrive\\Desktop\\Digital_Futures\\Digital_Futures_Group_Project_3\\high_risk_customers.csv', index = False)"
   ]
  },
  {
   "cell_type": "markdown",
   "id": "c4962fa9",
   "metadata": {},
   "source": [
    "### Remaining Customers' Churn Risk"
   ]
  },
  {
   "cell_type": "code",
   "execution_count": 81,
   "id": "520d359e",
   "metadata": {},
   "outputs": [],
   "source": [
    "Remaining = Customer.drop(High_Risk.index)"
   ]
  },
  {
   "cell_type": "code",
   "execution_count": 82,
   "id": "8ab93b18",
   "metadata": {},
   "outputs": [],
   "source": [
    "Remaining_list = Remaining[['CustomerID', 'Churn Risk']].sort_values(by = 'Churn Risk', ascending = False)"
   ]
  },
  {
   "cell_type": "code",
   "execution_count": 83,
   "id": "640b10a5",
   "metadata": {},
   "outputs": [],
   "source": [
    "Remaining_list.to_csv('OneDrive/Desktop/Digital_Futures/Digital_Futures_Group_Project_3/remaining_customers.csv', index = False)"
   ]
  },
  {
   "cell_type": "markdown",
   "id": "0f42277f",
   "metadata": {},
   "source": [
    "## Feature Contribution"
   ]
  },
  {
   "cell_type": "code",
   "execution_count": 84,
   "id": "a0031114",
   "metadata": {},
   "outputs": [],
   "source": [
    "prediction, bias, contributions = ti.predict(rf, X_train_eng[features])"
   ]
  },
  {
   "cell_type": "code",
   "execution_count": 85,
   "id": "9aa31e53",
   "metadata": {},
   "outputs": [],
   "source": [
    "contributions_sublist = [sublist for sublist in contributions]"
   ]
  },
  {
   "cell_type": "code",
   "execution_count": 86,
   "id": "a287af5d",
   "metadata": {},
   "outputs": [],
   "source": [
    "contributions_list = [sublist[:, 1] for sublist in contributions_sublist]"
   ]
  },
  {
   "cell_type": "code",
   "execution_count": 87,
   "id": "5cf6905e",
   "metadata": {},
   "outputs": [],
   "source": [
    "for i, row in X_train_eng[features].iloc[0:10, :].iterrows():\n",
    "\n",
    "    data_point = pd.DataFrame([row])\n",
    "    data_point.set_axis(['value_variable']) # Once transposed, it will be the column name\n",
    "    prediction, bias, contributions = ti.predict(rf, data_point)\n",
    "    local_interpretation = data_point.append(\n",
    "        pd.DataFrame([[round(c[1],3) for c in contributions[0]]], columns=data_point.columns.tolist(), index=['contribution_variable'])\n",
    "    ).T.sort_values('contribution_variable', ascending=False)"
   ]
  },
  {
   "cell_type": "code",
   "execution_count": 88,
   "id": "fc614553",
   "metadata": {},
   "outputs": [
    {
     "data": {
      "text/html": [
       "<div>\n",
       "<style scoped>\n",
       "    .dataframe tbody tr th:only-of-type {\n",
       "        vertical-align: middle;\n",
       "    }\n",
       "\n",
       "    .dataframe tbody tr th {\n",
       "        vertical-align: top;\n",
       "    }\n",
       "\n",
       "    .dataframe thead th {\n",
       "        text-align: right;\n",
       "    }\n",
       "</style>\n",
       "<table border=\"1\" class=\"dataframe\">\n",
       "  <thead>\n",
       "    <tr style=\"text-align: right;\">\n",
       "      <th></th>\n",
       "      <th>198</th>\n",
       "      <th>contribution_variable</th>\n",
       "    </tr>\n",
       "  </thead>\n",
       "  <tbody>\n",
       "    <tr>\n",
       "      <th>Tenure Months</th>\n",
       "      <td>-1.075663</td>\n",
       "      <td>0.103</td>\n",
       "    </tr>\n",
       "    <tr>\n",
       "      <th>Internet Service_Fiber optic</th>\n",
       "      <td>1.000000</td>\n",
       "      <td>0.092</td>\n",
       "    </tr>\n",
       "    <tr>\n",
       "      <th>Contract_Two year</th>\n",
       "      <td>0.000000</td>\n",
       "      <td>0.034</td>\n",
       "    </tr>\n",
       "    <tr>\n",
       "      <th>Dependents_Yes</th>\n",
       "      <td>0.000000</td>\n",
       "      <td>0.029</td>\n",
       "    </tr>\n",
       "    <tr>\n",
       "      <th>Contract_One year</th>\n",
       "      <td>0.000000</td>\n",
       "      <td>0.025</td>\n",
       "    </tr>\n",
       "    <tr>\n",
       "      <th>Internet Service_No</th>\n",
       "      <td>0.000000</td>\n",
       "      <td>0.024</td>\n",
       "    </tr>\n",
       "    <tr>\n",
       "      <th>Paperless Billing_Yes</th>\n",
       "      <td>1.000000</td>\n",
       "      <td>0.023</td>\n",
       "    </tr>\n",
       "    <tr>\n",
       "      <th>Streaming TV Grouped_Yes</th>\n",
       "      <td>1.000000</td>\n",
       "      <td>0.020</td>\n",
       "    </tr>\n",
       "    <tr>\n",
       "      <th>Online Security Grouped_Yes</th>\n",
       "      <td>0.000000</td>\n",
       "      <td>0.019</td>\n",
       "    </tr>\n",
       "    <tr>\n",
       "      <th>Tech Support Grouped_Yes</th>\n",
       "      <td>0.000000</td>\n",
       "      <td>0.015</td>\n",
       "    </tr>\n",
       "    <tr>\n",
       "      <th>Partner_Yes</th>\n",
       "      <td>0.000000</td>\n",
       "      <td>0.001</td>\n",
       "    </tr>\n",
       "    <tr>\n",
       "      <th>Streaming Movies Grouped_Yes</th>\n",
       "      <td>0.000000</td>\n",
       "      <td>-0.015</td>\n",
       "    </tr>\n",
       "  </tbody>\n",
       "</table>\n",
       "</div>"
      ],
      "text/plain": [
       "                                   198  contribution_variable\n",
       "Tenure Months                -1.075663                  0.103\n",
       "Internet Service_Fiber optic  1.000000                  0.092\n",
       "Contract_Two year             0.000000                  0.034\n",
       "Dependents_Yes                0.000000                  0.029\n",
       "Contract_One year             0.000000                  0.025\n",
       "Internet Service_No           0.000000                  0.024\n",
       "Paperless Billing_Yes         1.000000                  0.023\n",
       "Streaming TV Grouped_Yes      1.000000                  0.020\n",
       "Online Security Grouped_Yes   0.000000                  0.019\n",
       "Tech Support Grouped_Yes      0.000000                  0.015\n",
       "Partner_Yes                   0.000000                  0.001\n",
       "Streaming Movies Grouped_Yes  0.000000                 -0.015"
      ]
     },
     "execution_count": 88,
     "metadata": {},
     "output_type": "execute_result"
    }
   ],
   "source": [
    "local_interpretation"
   ]
  }
 ],
 "metadata": {
  "kernelspec": {
   "display_name": "Python 3",
   "language": "python",
   "name": "python3"
  },
  "language_info": {
   "codemirror_mode": {
    "name": "ipython",
    "version": 3
   },
   "file_extension": ".py",
   "mimetype": "text/x-python",
   "name": "python",
   "nbconvert_exporter": "python",
   "pygments_lexer": "ipython3",
   "version": "3.7.4"
  }
 },
 "nbformat": 4,
 "nbformat_minor": 5
}
